{
 "cells": [
  {
   "cell_type": "markdown",
   "metadata": {},
   "source": [
    "# Homework 3"
   ]
  },
  {
   "cell_type": "markdown",
   "metadata": {},
   "source": [
    "드디어 4번째 홈워크 입니다.\n",
    "\n",
    "이때까지의 숙제를 열심히 했다면, for loop, variable, list, dictionary, if 등의 programming 의 building block 과 같은\n",
    "\n",
    "요소들과 적(?)이 아닌 친구가 되어있으리라 믿습니다.\n",
    "\n",
    "이제 이런것들을 가지고 뭘 할 수 있을까요?"
   ]
  },
  {
   "cell_type": "markdown",
   "metadata": {},
   "source": [
    "네! 그렇습니다. 우리가 어릴 때 부터 열심히 해온 \"가위 바위 보\" 게임을 할 수 있습니다.\n",
    "\n",
    "4번째 숙제는 단 하나의 함수만 구현하면 됩니다. 이 함수에, 이때 까지 배운 프로그래밍 지식과과 본인이 사전에 알고 있던 \"가위 바위 보\" 노하우들을 총 망라해서\n",
    "\n",
    "\"가위 바위 보\" 토너먼트에 참가 할 \"가위 바위 보\" 함수를 구현 해주세요!"
   ]
  },
  {
   "cell_type": "markdown",
   "metadata": {},
   "source": [
    "## 가위 바위 보 토너먼트"
   ]
  },
  {
   "cell_type": "markdown",
   "metadata": {},
   "source": [
    "토너먼트의 규칙은 다음과 같습니다.\n",
    "\n",
    "1) Homework3을 충실히 해온 학생 + Staff 들 모두 참가합니다.\n",
    "\n",
    "2) 토너먼트는 다음 주 수업시간 당일에 진행하도록 합니다.\n",
    "\n",
    "3) 토너먼트는 우리가 생각하는 토너먼트룰과 동일합니다. 랜덤하게 배정 된, 토너먼트 대진표를 따라 상대와 1:1 가위바위보 게임을 1000번 반복하게 됩니다.\n",
    "\n",
    "1000번의 가위바위보 후, 더 많은 승수를 휙득한 사람이 다음 라운드로 진출하게 됩니다. 말도 안되는 확률에 의해서 동률이 발생한다면 (?), 승부가 날때 까지\n",
    "\n",
    "계속 진행됩니다. 1000번의 가위바위보를 진행할 때, \"승\", \"무\", \"패\" 모두 한번의 가위바위보로 간주합니다. 따라서 700승 50무 250패와 같은 스코어가\n",
    "\n",
    "발생 할 수 있습니다.\n",
    "\n",
    "4) 토너먼트에 참가하는 사람이 2의 제곱 승이 아닌 경우 (i.e. 부전승이 존재), 토너먼트 대진 트리의 각 레벨에서 가장 오른쪽에 배정 된 사람이 \n",
    "\n",
    "부전승 하게 됩니다.\n",
    "\n",
    "\n",
    "\n"
   ]
  },
  {
   "cell_type": "markdown",
   "metadata": {},
   "source": [
    "5) 최종 승자는 50불의 Amazon Gift Card 를 Prize 로 얻게 됩니다. (thank you Rice for funding us)"
   ]
  },
  {
   "cell_type": "markdown",
   "metadata": {},
   "source": [
    "# How to enter this tournament"
   ]
  },
  {
   "cell_type": "markdown",
   "metadata": {},
   "source": [
    "토너먼트에 참가 한다는 것은 다음을 의미합니다.\n",
    "\n",
    "1) Homework 3을 토요일 수업 이전에 제출.\n",
    "\n",
    "2) 반드시(!!) homework3.py 라는 파일이름으로 숙제를 제출 해야 함. 그렇지 않으면 실격 처리."
   ]
  },
  {
   "cell_type": "markdown",
   "metadata": {},
   "source": [
    "3) 다음의 함수를 구현해야 함. 함수의 이름 또한 수정 시 실격 처리. "
   ]
  },
  {
   "cell_type": "code",
   "execution_count": 1,
   "metadata": {
    "collapsed": true
   },
   "outputs": [],
   "source": [
    "def rps(opponent_nickname, idx, my_move_history, opponent_move_history):\n",
    "    pass"
   ]
  },
  {
   "cell_type": "markdown",
   "metadata": {},
   "source": [
    "4) pass 자리에 본인의 코드를 구현하면 됨."
   ]
  },
  {
   "cell_type": "markdown",
   "metadata": {},
   "source": [
    "### input\n",
    "5) 이 함수는 4개의 parameter 를 input 으로 받는데, 각각의 파라미터는 다음을 의미함.\n",
    "\n",
    "- opponent_nickname: who is my current opponent? 모든 참가자는 사전에 본인의 tournament \"nickname\" 을 정한 뒤 알려줘야 됨. \n",
    "예를들어, 성학이와 대전하는 경우 성학이의 (사전에 정하고 공개한) 닉네임인 shenamce 라는 값이 opponent에 들어옴. 이를 통해, 특정 상대와 대전하는 경우\n",
    "특정 custom tailored 한 전략을 쓰는 방법등을 고려해볼 수 있다. (i.e. if opponent_nickname == \"shenamce\": ..... else: .....)\n",
    "\n",
    "- idx: 1000번의 가위바위보 대전 중, 현재 턴의 순번. 1000번의 대전중 100번째라면 idx 의 값은 100. 해당 상대와 첫번째 가위바위보 대결인 경우 1.\n",
    "마지막 대결인 경우 1000. 등등\n",
    "\n",
    "- my_move_history: 현재 까지 내가 낸 가위바위보 히스토리 Python list 형태로 주어 짐. 예를들어, idx = 50인 경우, 앞서 내가 낸 49개의 가위바위보 choice 들이 my_move_history 에 담겨있음. 리스트에 저장 된 순서는 my_move_history[0] = 1번째 대전에 내가 낸 가위바위보 초이스. my_move_history[1] = 2번째 대전에 내가 사용한 초이스. ..... my_move_history[n-1] = n 번째 대전에 내가 낸 가위바위보 초이스. 당연하게도, 첫번째 대전인 경우 my_move_history 의 값은 [] 이다.\n",
    "\n",
    "- opponent_move_history: 현재 까지 상대방이 낸 가위바위보 히스토리. 포맷은 위와 동일.\n",
    "\n"
   ]
  },
  {
   "cell_type": "markdown",
   "metadata": {},
   "source": [
    "### output\n",
    "\n",
    "6) 이 함수는 함수의 return 값으로 \"R\", \"P\", \"S\" 세개의 스트링 값만 리턴하여야 한다. 이 외 다른 값을 리턴하는 경우 바로 실격처리.\n",
    "\"리턴\" 한다는 말은 return \"R\" (혹은 return \"P\" / return \"S\") 한다는 말이다. 예를들어, print \"R\" 하는 경우 마찬가지로 실격.\n",
    "\n",
    "7) 이 함수는 0.01초 내에 값을 return 하여야 한다. 이를 초과하는 경우, 바로 실격 처리. 참고로 컴퓨터는 대략 10^8 개의 일을 1초안에 할 수 있다.\n",
    "따라서 10^6승 개의 어마무시한 가위바위보 복잡한 strategy 를 생각하고 있지 않는 이상, 0.01초라는 시간은 매우 적절한 시간이다.\n",
    "\n",
    "8) 당연히 가위바위보 게임이기 때문에 randomized 한 전략을 생각하고 있을 수 있다. 하지만, 최대한 deterministic 프로그램을 제한하기 위하여,\n",
    "random library 의 사용을 제한한다. 구체적으로, random library 와 관련 된, random.random(), random.randrange() 함수를 호출 시,\n",
    "반드시, random.seed(0) 혹은 random.seed(1) 을 사전에 호출하여야 한다. random.seed(0) 혹은 random.seed(1)은 본인의 rpc 함수 내에서\n",
    "여러번 값을 바꿔서 호출 가능하다. 단, 반드시, seed 의 값으로 0 혹은 1을 사용하여야 한다. 구체적인 내용은 lecture 2 참조.\n",
    "\n",
    "또한 이 외 random 한 동작을 구현하기 위해 time, os library 등의 사용을 금지한다. "
   ]
  },
  {
   "cell_type": "markdown",
   "metadata": {},
   "source": [
    "## 진행"
   ]
  },
  {
   "cell_type": "markdown",
   "metadata": {
    "collapsed": true
   },
   "source": []
  },
  {
   "cell_type": "markdown",
   "metadata": {},
   "source": [
    "- 조교들이 열심히 개발을 진행해준다면, 수업 당일날 토너먼트를 실시간으로 진행한다.\n",
    "- 그렇지 못한다면, GUI (Graphical User Interface) 없이, terminal 로 실행하도록 한다.\n",
    "- 학생 입장에서, 위 함수를 제외한 다른 구현은 필요없다. 실제 진행과 관련 된 코드들은 조교들이 열심히 구현해 줄 꺼다."
   ]
  },
  {
   "cell_type": "markdown",
   "metadata": {},
   "source": [
    "## 구현\n",
    "\n",
    "이때까지 숙제와는 다르게 이번 숙제는 right or wrong 한 답안이 없습니다.\n",
    "\n",
    "물론 1000번의 대전을 하기 때문에, 바보같은 전략 (\"R\" 만 1000번 다 냄)과 같은 코드를 짰다면, 상대방에게 이를 읽혀\n",
    "\n",
    "참패 할 수도 있겠죠. 하지만, 나의 매우 복잡하고 스마트해보이는 전략이 항상 엣지가 있으리 라는 보장 또한 없습니다. \n",
    "\n",
    "따라서, 창의성과 파이썬 지식과 본인의 잡지식들(game theory, for example)을 모두 망라해 재미있게 작성해주시면 됩니다."
   ]
  },
  {
   "cell_type": "markdown",
   "metadata": {
    "collapsed": true
   },
   "source": [
    "## 설명\n",
    "\n",
    "본인의 가위바위보 함수가 사용하는 logic 을 파이썬 함수 정의 위에 간단하게 코멘트로 적어 제출해 주세요.\n"
   ]
  },
  {
   "cell_type": "code",
   "execution_count": 1,
   "metadata": {
    "collapsed": true
   },
   "outputs": [],
   "source": [
    "\"\"\"\n",
    "\n",
    "간단한 설명을 여기다 적어 주세요.. 주의! triple quote 사이에 적어야 함.\n",
    "\n",
    "\n",
    "\"\"\"\n",
    "def rps(opponent_nickname, idx, my_move_history, opponent_move_history):\n",
    "    pass "
   ]
  },
  {
   "cell_type": "code",
   "execution_count": null,
   "metadata": {
    "collapsed": true
   },
   "outputs": [],
   "source": []
  }
 ],
 "metadata": {
  "kernelspec": {
   "display_name": "Python 2",
   "language": "python",
   "name": "python2"
  },
  "language_info": {
   "codemirror_mode": {
    "name": "ipython",
    "version": 2
   },
   "file_extension": ".py",
   "mimetype": "text/x-python",
   "name": "python",
   "nbconvert_exporter": "python",
   "pygments_lexer": "ipython2",
   "version": "2.7.12"
  }
 },
 "nbformat": 4,
 "nbformat_minor": 1
}

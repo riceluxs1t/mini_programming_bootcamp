{
 "cells": [
  {
   "cell_type": "markdown",
   "metadata": {},
   "source": [
    "# Homework1"
   ]
  },
  {
   "cell_type": "markdown",
   "metadata": {},
   "source": [
    "홈워크0이 너무 쉬우셨다고요?\n",
    "걱정 마세요 ㅋㅋ 이번 숙제는 그렇지 않습니다. \n",
    "Hello World 는 사실 몸풀기격도 되지 않습니다. 이제 진짜 프로그래밍 해봅시다.\n"
   ]
  },
  {
   "cell_type": "markdown",
   "metadata": {},
   "source": [
    "Homework0 와 마찬가지로, 모든 숙제와 관련 된 코드는 homework1.py 라는 파일안에 작업해주세요\n",
    "\n",
    "이 규격을 지키지 않으면 저희가 열심히 만들어 놓은 자동 채점 시스템이 채점을 못하게 되고 열심히 한 숙제에 대해서 \n",
    "\n",
    "0 점을 드릴 수 밖에 없습니다 (ㅠㅠ)"
   ]
  },
  {
   "cell_type": "markdown",
   "metadata": {},
   "source": [
    "Homework1 은 Lecture1 과 https://www.clear.rice.edu/comp140/labs/01/ 에서 배운 내용이랑 우리가 이때까지 교육과정에서 열심히 배운\n",
    "\n",
    "수학 / 잡지식을 총 망라해서 풀 수 있는 문제들로 모아봤습니다!\n",
    "\n",
    "혹시 \"제가 지금 이런걸 하고 싶은데.. 파이썬 문법으로 어떻게 하나요..\" 라는 질문이 없게끔 문제들을 구성했지만, 저런 질문이 생긴다면 주저말고 Slack 으로\n",
    "\n",
    "(이메일 보단 Slack! 다른 사람들도 봐야되니깐!) 질문해주세요. \n",
    "\n"
   ]
  },
  {
   "cell_type": "markdown",
   "metadata": {},
   "source": [
    "# 채점 "
   ]
  },
  {
   "cell_type": "markdown",
   "metadata": {},
   "source": [
    "앞으로 하는 모든 숙제는 항상 같은 Template 으로 주어지는 Python 함수를 구현하는 형태로 이루어집니다.\n",
    "\n",
    "예를들어\n",
    "\n",
    "def computeStandardDev(numbers):\n",
    "\tpass\n",
    " \n",
    "와 같은 함수를 구현해야 한다면 \n",
    "\n",
    "pass 자리에 본인의 로직을 짜시면 됩니다.\n",
    "\n",
    "가장 중요한 점은, 코드의 맨 마지막 부분은 항상 함수가 요구하는 값을 \"return VALUE_ASKED\" 와 같이 \"리턴\" 해야 한다는 점입니다.\n",
    "\n",
    "print 를 \"출력\" 하면 안되고 \"return X\" 와 같은 형태로 \"리턴\" 해야 합니다.\n",
    "\n",
    "만약 문제가 너무 어려워 구현 할 수 없다면,\n",
    "\n",
    "여전히 저희가 제공한 template 을 지우지 말고 그대로 두셔야 합니다.\n",
    "\n",
    "예를들어 위 computeStandardDev 함수를 구현 할 수 없다면, 제공해드린 코드를 edit 하지 마시고 그대로 제출 하시면 됩니다.\n",
    "\n",
    "숙제에 대한 점수는 (# of tests passed / # of total tests) 로 산출하게 됩니다. \n",
    "\n",
    "따라서, 특정 함수를 구현 하지 못했다면, partial credit 은 없습니다.\n",
    "\n",
    "저희가 준비한 모든 테스트 케이스를 통과하는 경우, 해당 함수는 \"올바르다고\" 판단합니다.\n",
    "\n",
    "자 이제, 아래의 template 함수들을 본인의 homework1.py 파일에 옮긴 후 구현하시면 됩니다."
   ]
  },
  {
   "cell_type": "code",
   "execution_count": 1,
   "metadata": {
    "collapsed": true
   },
   "outputs": [],
   "source": [
    "\"\"\"\n",
    "EASY\n",
    " \n",
    "@numbers : a list of numbers of an arbitrary length. \n",
    " \n",
    "output: standard deviation of the list of numbers. (https://e...content-available-to-author-only...a.org/wiki/Standard_deviation)\n",
    " \n",
    "e.g. numbers: [2,4,4,4,5,5,7,9]. output: 2\n",
    "\n",
    "assume this is the biased version of a standard deviation. i.e. the denominator should be n instead of n-1.\n",
    " \n",
    "HINT: \"len(numbers)\" gives you the length of \"numbers\" list\n",
    "HINT2: sqrt of a number can be computed by math.sqrt(someNumber). e.g. math.sqrt(12). But you have to import the math library.\n",
    "To do that, add \"import math\" at the top of your python file. or type in \"import math\" before you do anything on your python shell.\n",
    " \n",
    "\"\"\"\n",
    "def computeStandardDev(numbers):\n",
    "    pass\n",
    " \n",
    " \n"
   ]
  },
  {
   "cell_type": "code",
   "execution_count": 2,
   "metadata": {
    "collapsed": true
   },
   "outputs": [],
   "source": [
    "\"\"\"\n",
    "MEDIUM\n",
    " \n",
    "3. 6. 9 게임. FizzBuzz 의 확장판. 술게임. \n",
    "게임은 스탠다드한 3, 6, 9 게임이랑 동일. 숫자에 3, 6, 9 가 들어가면 박수를 쳐야된다. 예) 13 -> \"clap\"\n",
    "그 외 숫자들은 숫자를 프린트 한다. 2 -> 2\n",
    " \n",
    "@numbers: a list of numbers of an arbitrary length\n",
    " \n",
    "output: a list of string values that correspond to how the game proceeds.\n",
    " \n",
    "e.g.\n",
    "numbers: [1,2,3,4,5,6]\n",
    "output: [\"1\", \"2\", \"clap\", \"4\", \"5\", \"clap\"]\n",
    " \n",
    "HINT: \"len(numbers)\" gives the length of \"numbers\" list\n",
    "HINT2: to convert a number to a string, do str(number). e.g. str(1) => \"1\"\n",
    "HINT3: 특정 문자열에 어떤 값이 포함되어있는지 확인하려면 in 키워드를 쓰면 된다. e.g. \"3\" in \"13\" => True\n",
    "HINT4: if \"3\" in str(num): print \"clap\"\n",
    "\"\"\"\n",
    " \n",
    "def play369(numbers):\n",
    "    pass\n"
   ]
  },
  {
   "cell_type": "code",
   "execution_count": 3,
   "metadata": {
    "collapsed": true
   },
   "outputs": [],
   "source": [
    "\n",
    "\"\"\"\n",
    "MEDIUM\n",
    " \n",
    "Moving average. Given a list of stock prices (e.g. [1,2,3,4,5,6,7,8,9]) and a number d, output a list of \"d\" day moving averages.\n",
    "\n",
    "s.t. n = the size of stock prices and 1 <= d <= n.\n",
    "\n",
    "e.g. \n",
    "numbers: [1,2,3,4,5], d = 2\n",
    " \n",
    "output: [1.5, 2.5, 3.5, 4.5]\n",
    " \n",
    "e.g.\n",
    "numbers: [1,2,3,4,5] d= 3\n",
    "output: [2,3,4]\n",
    " \n",
    "HINT: use for loops twice.\n",
    "e.g. \n",
    "    for number in numbers:\n",
    "        for i in range(d):\n",
    "            ....\n",
    "\"\"\"\n",
    " \n",
    "def movingAverages(numbers, d):\n",
    "    pass\n",
    " \n",
    " "
   ]
  },
  {
   "cell_type": "code",
   "execution_count": 4,
   "metadata": {
    "collapsed": true
   },
   "outputs": [],
   "source": [
    "\"\"\"\n",
    "MEDIUM HARD\n",
    " \n",
    "Given a list of integer numbers of an arbitrary length and a number x, find a pair of numbers in the list that sum to x\n",
    "if there is no such a pair, simply output an empty list []\n",
    " \n",
    "If there are multiple answers, output any pair. \n",
    " \n",
    "e.g.\n",
    "[1,2,3,4,5], 3.\n",
    " \n",
    "output [1, 2]\n",
    " \n",
    "e.g.\n",
    "[1,2,3,4,5], 100\n",
    "output []\n",
    " \n",
    "HINT: use double for loops\n",
    "Extra Credit: read http://w...content-available-to-author-only...s.org/count-pairs-with-given-sum/ and think a better way to do this than using double for loops.\n",
    "실제 테크 회사들 맨 첫라운드 인터뷰 문제로 자주 등장.\n",
    "\"\"\"\n",
    " \n",
    "def findPair(numbers, x):\n",
    "    pass\n"
   ]
  },
  {
   "cell_type": "code",
   "execution_count": 5,
   "metadata": {
    "collapsed": true
   },
   "outputs": [],
   "source": [
    "\"\"\"\n",
    "HARD\n",
    " \n",
    "개미 문제. N마리의 개미가 x 축 선상 위에 있다고 상상해보자. 각각의 개미는 +1 혹은 -1의 속도를 가지며. 0 보다 크고 d 보다 작은 정수 위치에 위치한다.\n",
    "e.g. 1번개미: +1, 5 => 1번개미는 오른쪽으로 1초에 1 unit 이동하며 처음 위치는 5에서 시작한다. 1초뒤에 6으로 이동 and so on.\n",
    " \n",
    "특정 t 초에 특정 개미 둘이 충돌하면, 해당 개미들은 방향을 바꾼다. +1로 가던 개미들은 -1의 속도를 가지게 되며 -1로 가던 개미들은 +1의 속도를 가지게 된다.\n",
    " \n",
    "또한, x 축 선상에서 0 혹은 d 에 위치하게되는 개미는 개미지옥에 의해 잡아먹히게 된다.\n",
    " \n",
    "개미들의 initial positions 와 velocities 가 pos, vel 두 리스트가 주어지며 개미지옥의 위치 d 가 주어질 때 모든 개미들이 다 잡아먹히기 전 까지 걸리는 시간을 구하시오\n",
    " \n",
    "단, 모든 개미들의 initial positions i는 0 < i < d 를 만족하며 같은 포지션에서 시작하는 개미는 없다.\n",
    "\n",
    "예)\n",
    "\n",
    "d가 6이고 개미 2마리가 포지션 3, 5 에서 각각 +1, -1 의 속도를 가지고 시작함. \n",
    "그러면 1초 뒤, 서로 포지션 4 에서 -1, +1 의 속도를 가짐. 2초 뒤, 각각 포지션 3, 5. 3초 뒤 2번째 개미는 포지션 6에 위치하기 때문에 개미지옥에 의해\n",
    "잡아 먹힘, 첫번째 개미는 포지션 2에 위치. 5초 뒤, 첫번째 개미가 포지션 0에 위치하게 되면서 개미지옥에 의해 먹히며 모든 개미가 사망. 정답 5초.\n",
    "\n",
    "\"\"\"\n",
    " \n",
    "def findAllDeathTime(pos, vel, d):\n",
    "    pass\n"
   ]
  },
  {
   "cell_type": "code",
   "execution_count": null,
   "metadata": {
    "collapsed": true
   },
   "outputs": [],
   "source": [
    "\"\"\"\n",
    "HARD\n",
    "\n",
    "로보토피아 세계에서, 인생이 이보다 더 편할 수 없습니다. 로봇들이 일하고 우린 놀기 때문이죠!\n",
    "각각의 로봇들은 팔/다리가 있는데 팔과 다리의 수는 다를 수 있습니다. 로봇들 끼리의 팔/다리 숫자도 다를 수 있죠.\n",
    "\n",
    "로보토피아의 성공한 인생을 사는 로봇 농장주의 아들인 당신은, 2가지 타입의 로봇들을 많이 가지고 있습니다.\n",
    "\n",
    "일과시간에는 이 로봇들을 오토모드로 돌려서 일을 시키고 밤에는, 해당 로봇들을 모두 회수 해서 모든 로봇이 일을 마치고 귀가 했는지\n",
    "일일이 세는 것이 당신의 역할입니다. 때때로, 로봇이 없어지기도 하거든요! \n",
    "\n",
    "로봇들은 귀가 한 후에도, 매우 활동적이라 일일이 2가지 타입의 로봇 수를 다 셀 수 없습니다.\n",
    "\n",
    "당신은 다년간의 경험을 통해 모든 로봇들의 팔/다리 수의 개별 합만 겨우 셀 수 있습니다.\n",
    "\n",
    "2가지 타입의 로봇의 팔 다리 수를 나타내는 \n",
    "l1, a1, l2, a2 (순서대로, 1번타입 로봇의 다리 수, 1번타입 로봇의 팔 수, 2번타입 로봇의 다리 수, 2번타입 로봇의 팔 수)\n",
    "가 주어지고\n",
    "lt, at (현재, 카운트한 the sum of all robot legs, the sum of all robot arms) 가 주어질 때,\n",
    "\n",
    "농장주의 아들을 도와 개별 타입의 로봇의 수를 구해주세요!\n",
    "\n",
    "1) 단, 계산한 로봇의 수가 음수 혹은 0이 될 수 없습니다!\n",
    "2) 주어진 숫자들을 가지고 답을 구할 수 없는 경우, 혹은 답은 하나로 uniquely determine 할 수 없는 경우 \"?\" 를 \"리턴\"해주세요\n",
    "3) 정상적으로 답이 있는 경우, (예, 1번 로봇 타입 2, 2번 로봇타입 1) [2, 1] 와 같은 리스트 형식으로 리턴해 주세요.\n",
    "\n",
    "Example \n",
    "\n",
    "input : 2, 1, 4, 1, 16, 5\n",
    "output: [2, 3]\n",
    "\n",
    "Example\n",
    "\n",
    "input: 3, 2, 5, 1, 9 , 4\n",
    "output: ?\n",
    "\n",
    "Example\n",
    "\n",
    "input: 1, 2, 3, 6, 8, 16\n",
    "output: ?\n",
    "\n",
    "HINT:\n",
    "\n",
    "연립 방정식 풀기.\n",
    "\n",
    "\"\"\"\n",
    "\n",
    "def robotopia(l1, a1, l2, a2, lt, at):\n",
    "    pass"
   ]
  }
 ],
 "metadata": {
  "kernelspec": {
   "display_name": "Python 2",
   "language": "python",
   "name": "python2"
  },
  "language_info": {
   "codemirror_mode": {
    "name": "ipython",
    "version": 2
   },
   "file_extension": ".py",
   "mimetype": "text/x-python",
   "name": "python",
   "nbconvert_exporter": "python",
   "pygments_lexer": "ipython2",
   "version": "2.7.12"
  }
 },
 "nbformat": 4,
 "nbformat_minor": 1
}

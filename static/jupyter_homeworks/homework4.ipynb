{
 "cells": [
  {
   "cell_type": "markdown",
   "metadata": {},
   "source": [
    "## Homework4"
   ]
  },
  {
   "cell_type": "markdown",
   "metadata": {},
   "source": [
    "와 여기까지 숙제를 열심히 하신 여러분 정말 축하드립니다. (짝짝짝)\n",
    "\n",
    "프로그래밍의 '프'자도 모르는 프알못에서 이제 어디가서 \"저도 파이썬좀 해봤어요 ㅎㅎ\" \n",
    "\n",
    "해도 될 정도에 거의 근접하셨습니다."
   ]
  },
  {
   "cell_type": "markdown",
   "metadata": {},
   "source": [
    "이제 몇가지 무기만 더 장착 한다면 정말 어디 현업 회사에 들어가서 현업 프로그래머로 일 하실 수도(?) 있겠습니다.\n",
    "\n",
    "그래서 ... 이번 숙제에는 Recursive programming 에 대해서 배워 봅시다!"
   ]
  },
  {
   "cell_type": "markdown",
   "metadata": {},
   "source": [
    "### Recursion "
   ]
  },
  {
   "cell_type": "markdown",
   "metadata": {},
   "source": [
    "도대체 Recursion 이 뭐야? https://www.clear.rice.edu/comp140/labs/14/ 여기 자세히 나와있습니다.\n",
    "\n",
    "3줄 요약해 드리면 Recursion 은 다음과 같습니다.\n",
    "\n",
    "**1) 수학의 Inductive proof 와 매우 유사함. Base case 를 가지고 Inductive case 를 가짐**\n",
    "예)\n"
   ]
  },
  {
   "cell_type": "code",
   "execution_count": 1,
   "metadata": {
    "collapsed": true
   },
   "outputs": [],
   "source": [
    "def recursive_sum(l):\n",
    "    # l = python list. i.e. [1,2,3,4,...]\n",
    "    if len(l) == 0: return 0 # base case! an empty list has sum equal to 0!\n",
    "    \n",
    "    return l[0] + recursive_sum(l[1:]) # inductive case! the sum of a list is always head + sum(rest)"
   ]
  },
  {
   "cell_type": "code",
   "execution_count": 2,
   "metadata": {
    "collapsed": false
   },
   "outputs": [
    {
     "name": "stdout",
     "output_type": "stream",
     "text": [
      "15\n"
     ]
    }
   ],
   "source": [
    "print recursive_sum([1,2,3,4,5])"
   ]
  },
  {
   "cell_type": "markdown",
   "metadata": {},
   "source": [
    "**2) Inductive case 를 처리하기 위해서, 어떤 함수 f가 자기 자신을 한번 (혹은 그 이상) 호출 함! i.e. recursive_sum!**"
   ]
  },
  {
   "cell_type": "code",
   "execution_count": 3,
   "metadata": {
    "collapsed": true
   },
   "outputs": [],
   "source": [
    "def recursive_fibonacci(idx):\n",
    "    # computes the idx'th number in fibonacci sequence\n",
    "    # 0th term = 1. base case!\n",
    "    # 1th term = 1. base case!\n",
    "    if idx == 0: return 1\n",
    "    if idx == 1: return 1\n",
    "    return recursive_fibonacci(idx-1) + recursive_fibonacci(idx-2) # inductive case! calls itself TWICE!\n"
   ]
  },
  {
   "cell_type": "code",
   "execution_count": 5,
   "metadata": {
    "collapsed": false
   },
   "outputs": [
    {
     "name": "stdout",
     "output_type": "stream",
     "text": [
      "8\n"
     ]
    }
   ],
   "source": [
    "print recursive_fibonacci(5)"
   ]
  },
  {
   "cell_type": "markdown",
   "metadata": {},
   "source": [
    "**3) 도대체 이걸 왜쓰나 싶지만, 다루는 문제의 성격에 따라 iterative (for, while loop) 한 형태의 프로그램보다 더 구현하기 쉽다!** (숙련도가 올라가면 올라 갈수록!) 이는, 세상만사의 매우 많은 문제들이 재귀적으로 구성되어 있기 때문이다. 그게 무슨말이죠? 큰 문제는 동일한 구조의 작은 문제들로 이루어져 있다는 말이다! 예) Fractal design, 대학교의 성공 = 고등학교의 성공 + @. 대학원의 성공 = 대학교의 성공 + @, 등등. \n",
    "\n",
    "따라서 recursive 한 사고를 할 수 있다면, 세상 만사를 바라볼 때, 좀 더 직관적으로 바라볼 수 있다."
   ]
  },
  {
   "cell_type": "markdown",
   "metadata": {},
   "source": [
    "거두 절미 하고, 코드로 짜다보면.. 감이옵니다. 아래 부터 숙제!"
   ]
  },
  {
   "cell_type": "markdown",
   "metadata": {},
   "source": [
    "## Q1)"
   ]
  },
  {
   "cell_type": "code",
   "execution_count": 1,
   "metadata": {
    "collapsed": false
   },
   "outputs": [],
   "source": [
    "# Q1)\n",
    "# l : 파이썬 list.\n",
    "# 리스트 l 이 주어 질 때, 리스트이 모든 값을 다 곱한 값을 리턴하시오. 단, 재귀적으로 짜야 함. for loop 을 쓰면 실격!\n",
    "# e.g. \n",
    "# recursive_multiply([]) = 0\n",
    "# recursive_multiply([1,2,3]) = 6\n",
    "# recursive_multiply([1,1,1,1,1]) = 1\n",
    "def recursive_multiply(l):\n",
    "    pass"
   ]
  },
  {
   "cell_type": "markdown",
   "metadata": {},
   "source": [
    "## Q2)"
   ]
  },
  {
   "cell_type": "code",
   "execution_count": 2,
   "metadata": {
    "collapsed": true
   },
   "outputs": [],
   "source": [
    "\n",
    "# l : 파이선 list.\n",
    "# element : 찾고 싶은 element\n",
    "# 리스트 l 과 element 가 주어 질 때, element 의 first index. element 가 주어진 리스트 l 에 없으면 -1 을 리턴\n",
    "# e.g.\n",
    "# recursive_in([1,2,55,2], 55) = 2\n",
    "# recursive_in([1,2,55,2], 7) = -1\n",
    "# recursive_in([1,2,55,2], 1) = 0\n",
    "def recursive_in(l, element):\n",
    "    pass\n",
    "    "
   ]
  },
  {
   "cell_type": "markdown",
   "metadata": {},
   "source": [
    "## Q3)"
   ]
  },
  {
   "cell_type": "code",
   "execution_count": 7,
   "metadata": {
    "collapsed": true
   },
   "outputs": [],
   "source": [
    "\n",
    "# 학교다닐 때 이런 게임 자주 하지 않으셨나요?\n",
    "# A: \"1 부터 N 사이의 숫자를 하나 생각해봐.\"\n",
    "# B: \"ㅇㅇ\"\n",
    "# A: \"혹시 그게 ~~ 이상이니?\"\n",
    "# B: \"아니.\"\n",
    "# A: \"혹시 그게 ~~ 이상이니?\"\n",
    "# B: \"ㅇㅇ.\"\n",
    "# .... (반복 반복)\n",
    "# A: \"아 알겠다. 숫자 X지?\"\n",
    "# B: \"wow. 어떻게 맞춘거야?\"\n",
    "# 위와 같은 게임에서 A 의 best strategy 는 1 ~ N 의 중간 숫자를 말하는 방식으로 반씩 답이 될 수 있는 숫자들을 줄여 나가는\n",
    "# 전략을 취합니다. 일반적인 게임에서 A는 얼추 답을 알 수 있을 때, 예) 답이 [25, 30] 사이에 있음 (\"[\" 혹은 \"]\" 일 때 bounds 포함), 이 중\n",
    "# 랜덤하게 Guess 를 하지만, 프로그래밍의 세계에서 guess 란 용납 될 수 없습니다. 답이 [X, X] 처럼 하나로 한정 될 떄 까지,\n",
    "# A 와 B가 게임을 반복할 때, A 가 물어야 하는 질문의 수를 출력하는 코드를 짜주세요!\n",
    "#\n",
    "# N은 B가 답으로 상상 할 수 있는 숫자들의 상한을 나타내고 num 은 실제 B가 생각한 숫자 입니다.\n",
    "# A 의 전략은 위와 같이 1 ~ N 의 중간 숫자를 정한 뒤 \"~~ 이상이니\" 와 같이 질의 합니다.\n",
    "# 만약 중간 [1, N] range 에 숫자가 짝수 개일 경우, A는 가운데 2개 값 중 더 낮은 값을 사용합니다. 예) 1, 2, 3, 4. A: \"2 이상이니?\"\n",
    "#\n",
    "# 만약에 N = 10 이고 num 이 7인 경우,\n",
    "# A: \"5 이상이니?\"\n",
    "# B: \"응\"\n",
    "# A: \"7 이상이니?\"\n",
    "# B: \"응\"\n",
    "# A: \"8 이상이니?\"\n",
    "# B: \"아니\"\n",
    "# A: \"7이구나!\" \n",
    "#\n",
    "# 와 같이 3 번 질의하게 됩니다.\n",
    "# \n",
    "# i.e. guess_my_number(10, 7) = 3\n",
    "#\n",
    "def guess_my_number(N, num):\n",
    "    pass"
   ]
  },
  {
   "cell_type": "markdown",
   "metadata": {},
   "source": [
    "## Q4)"
   ]
  },
  {
   "cell_type": "markdown",
   "metadata": {},
   "source": [
    "때는 바야흐로 2017. 이태원에서 복무(?)하던 재형이가 드디어 학교로 돌아왔습니다.\n",
    "\n",
    "재형: \"아 학교로 돌아가게 된다면 귀용귀용이들이랑 술게임도 하고 재미있겠지? ㅎ_ㅎ\"\n",
    "\n",
    "학교에 돌아와 보니 아니나 다를까 주말마다 술게임이 한창입니다.\n",
    "\n",
    "많은 술게임 중에 최고의 인기게임은 당연히 베스킨 라빈스 N K 게임 입니다.\n",
    "\n",
    "베스킨 라빈스 31 게임과 다르게 베스킨 라빈스 N K 게임은 항상 1:1 로 이루어집니다. 항상 귀용귀용한 신입생 X를 노리고 있던 재형이에겐 안성맞춤인 게임이죠!\n",
    "\n",
    "베스킨 라빈스 N K 게임은 한명이 선공으로 시작해 번갈아 가며 한턴에 1부터 K 개의 숫자를 말할 수 있고 N을 말하게 되는 사람이 벌칙으로 술을 마시게 됩니다.\n",
    "\n",
    "어느 토요일밤 재형이는 신입생 X와 이 게임을 여러판 하게 됩니다. 하지만 호락호락한 신입생이 아니죠. 이 신입생은 다음과 같이 제안합니다.\n",
    "\n",
    "X: \"오빠가 선공/후공 정하세요. 대신 제가 숫자 N과 K 를 정하죠\"\n",
    "\n",
    "재형: \"ㅇㅇㅇ\"\n",
    "\n",
    "이렇게 무한히 게임을 반복하고 재형이는 그날 100전 100패라는 어마무시한 전적을 세우고 다음날 술이 떡이 되어 일어납니다. 그러곤 생각하죠\n",
    "\n",
    "재형: \"아..왜 졌을까... 혹시 X가 필승 전략을 알고 있던 건 아닐까?\"\n",
    "\n",
    "여기까지 생각이 다다른 재형이는 열심히 종이와 연필을 들고 끄적끄적거려 보지만 군대에 다녀와 뇌가 리셋 된 재형이는 도저히 필승법을 생각해 낼 수 가 없습니다.\n",
    "\n",
    "재형이를 도와 베스킨 라빈스 N K 게임의 필승법을 찾아주세요!"
   ]
  },
  {
   "cell_type": "code",
   "execution_count": 1,
   "metadata": {
    "collapsed": true
   },
   "outputs": [],
   "source": [
    "# 이 함수는 N, K 를 인자로 받아 다음을 리턴해야 합니다.\n",
    "# 선공으로 시작하는 사람의 필승법이 있을 경우 True\n",
    "# 후공으로 시작하는 사람의 필승법이 있을 경우 False 를 리턴해 주세요\n",
    "# e.g. baskin(31, 3) -> True\n",
    "def baskin(N, K):\n",
    "    pass\n",
    "\n"
   ]
  },
  {
   "cell_type": "code",
   "execution_count": null,
   "metadata": {
    "collapsed": true
   },
   "outputs": [],
   "source": []
  }
 ],
 "metadata": {
  "kernelspec": {
   "display_name": "Python 2",
   "language": "python",
   "name": "python2"
  },
  "language_info": {
   "codemirror_mode": {
    "name": "ipython",
    "version": 2
   },
   "file_extension": ".py",
   "mimetype": "text/x-python",
   "name": "python",
   "nbconvert_exporter": "python",
   "pygments_lexer": "ipython2",
   "version": "2.7.12"
  }
 },
 "nbformat": 4,
 "nbformat_minor": 1
}

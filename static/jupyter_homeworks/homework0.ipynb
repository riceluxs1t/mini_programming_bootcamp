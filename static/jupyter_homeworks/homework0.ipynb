{
 "cells": [
  {
   "cell_type": "markdown",
   "metadata": {},
   "source": [
    "# Homework0"
   ]
  },
  {
   "cell_type": "markdown",
   "metadata": {},
   "source": [
    "---------------------------------------------------------------------------------------------------------------------"
   ]
  },
  {
   "cell_type": "markdown",
   "metadata": {},
   "source": [
    "Your python learning endeavors won't go far without saying hello to the whole pythonic world! You must let the pythonic world know you have joined the party!\n",
    "But in the world of python programming, people of course communicate in python. \n",
    "That said, your job for homework0 is pretty simple! Create a python function that says hello on your behalf!\n"
   ]
  },
  {
   "cell_type": "markdown",
   "metadata": {},
   "source": [
    "The pythonic world has pretty strict communication etiquettes and your python program must follow the following rules and standards\n"
   ]
  },
  {
   "cell_type": "code",
   "execution_count": null,
   "metadata": {
    "collapsed": true
   },
   "outputs": [],
   "source": []
  },
  {
   "cell_type": "markdown",
   "metadata": {},
   "source": [
    "1) you must submit one file named \"homework0.py\"\n"
   ]
  },
  {
   "cell_type": "markdown",
   "metadata": {},
   "source": [
    "2) you must name your function \"hello_world\" that takes no argument"
   ]
  },
  {
   "cell_type": "markdown",
   "metadata": {},
   "source": [
    "3) your function must \"return\" a string \"hello world!\" INSTEAD of \"print\" -ing it"
   ]
  },
  {
   "cell_type": "markdown",
   "metadata": {},
   "source": [
    "        i.e.  def hello_world():"
   ]
  },
  {
   "cell_type": "code",
   "execution_count": 3,
   "metadata": {
    "collapsed": true
   },
   "outputs": [],
   "source": [
    "def hello_world():\n",
    "    # your implementation comes here!\n",
    "    # remove the below \"pass\" and put your implementation instead\n",
    "    pass"
   ]
  },
  {
   "cell_type": "markdown",
   "metadata": {},
   "source": [
    "As there are quite a few of you in class, we use an automated grading system that expects a certain set of specifications. A failure to follow them can result in your receiving a zero for the entire homework assignment. The main purpose of this assignment is to get you familiar with the submission system so that you won't make such mistakes down the road.\n"
   ]
  },
  {
   "cell_type": "markdown",
   "metadata": {},
   "source": [
    "As this homework assignment asks you to write a python function (a very simple one, however) which is not yet covered in class, you can refer to the material at https://www.clear.rice.edu/comp140/labs/01/ to get a better understanding of what a function is. The assisgnment can still be completed without going through the material, however."
   ]
  },
  {
   "cell_type": "code",
   "execution_count": null,
   "metadata": {
    "collapsed": true
   },
   "outputs": [],
   "source": []
  }
 ],
 "metadata": {
  "kernelspec": {
   "display_name": "Python 2",
   "language": "python",
   "name": "python2"
  },
  "language_info": {
   "codemirror_mode": {
    "name": "ipython",
    "version": 2
   },
   "file_extension": ".py",
   "mimetype": "text/x-python",
   "name": "python",
   "nbconvert_exporter": "python",
   "pygments_lexer": "ipython2",
   "version": "2.7.12"
  }
 },
 "nbformat": 4,
 "nbformat_minor": 1
}

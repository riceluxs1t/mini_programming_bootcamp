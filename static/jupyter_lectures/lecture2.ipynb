{
 "cells": [
  {
   "cell_type": "code",
   "execution_count": 56,
   "metadata": {
    "collapsed": true
   },
   "outputs": [],
   "source": [
    "# Last lecture. we talked about language constructs such as list. for loop. if else if else, etc\n",
    "# Even with those, you can do a great deal of programming.\n",
    "# moving averages, standard deviations, generating all combinations of a list, etc.\n",
    "# Let's think of yet another problem and try implementing it with only what we have leanred so far\n",
    "\n",
    "# Given a list of integers in range 1 ~ 100, let's count the occurences of each number.\n",
    "# e.g. Given, [1,2,3,4,5,5,5,1,1,2,4,4,4,4], the function produces information about the counts of each number.\n",
    "# e.g. 1: 3 (#1 appears 3 times), 2: 2 (#2 appears 2 times), 3: 1 (#3 appears once), 4: 5 (#4 appears 5 times), etc...\n",
    "\n",
    "def computeOccurrences(listOfNumbers):\n",
    "    \n",
    "    counts = [0] * 101 # (creates an array that has 101 zeros in it.)\n",
    "    \n",
    "    for number in listOfNumbers:\n",
    "        counts[number] += 1\n",
    "    \n",
    "    return counts\n",
    "\n"
   ]
  },
  {
   "cell_type": "code",
   "execution_count": 57,
   "metadata": {
    "collapsed": true
   },
   "outputs": [],
   "source": [
    "# What are some pros and cons of this implementation?\n"
   ]
  },
  {
   "cell_type": "code",
   "execution_count": 58,
   "metadata": {
    "collapsed": true
   },
   "outputs": [],
   "source": [
    "# What happens if the distribution of numbers is skewed? i.e. only numbers 1 and 2 appear 99% of times.\n",
    "# and other numbers in range 1~100 appear very little?\n",
    "\n",
    "def computeOccurrences(listOfNumbers):\n",
    "    \n",
    "    countsForOneAndTwo = [0, 0, 0] # why have three entries?\n",
    "    otherNumbers = []\n",
    "    for number in listOfNumbers:\n",
    "        if number == 1 or number == 2:\n",
    "            countsForOneAndTwo[number] += 1\n",
    "        else:\n",
    "            otherNumbers.append(number)\n",
    "    \n",
    "    return countsForOneAndTwo, otherNumbers\n",
    "\n"
   ]
  },
  {
   "cell_type": "code",
   "execution_count": 59,
   "metadata": {
    "collapsed": true
   },
   "outputs": [],
   "source": [
    "# What are some intuitive pros and cons of this implementation?\n"
   ]
  },
  {
   "cell_type": "code",
   "execution_count": 60,
   "metadata": {
    "collapsed": true
   },
   "outputs": [],
   "source": [
    "# Entry python's \"dictionary\" data structure!\n"
   ]
  },
  {
   "cell_type": "code",
   "execution_count": 84,
   "metadata": {
    "collapsed": false
   },
   "outputs": [],
   "source": [
    "myDictionary = {} # one way to initialize a dictionary. MOST COMMON\n",
    "myDictionary2 = dict() # another way to initialize a dictionary\n",
    "\n",
    "# initializes a dictionary with prepopulated data\n",
    "myDictinoary3 = {\"jaejoon\": \"jejoon\", \"youngryul\": \"baekma pok gyuk ki\", \"gunhwan\": \"best driver\"}\n",
    "\n"
   ]
  },
  {
   "cell_type": "code",
   "execution_count": 62,
   "metadata": {
    "collapsed": false
   },
   "outputs": [],
   "source": [
    "# we can populate a dictionary\n",
    "myDictionary[1] = 3\n",
    "myDictionary[2] = 10\n"
   ]
  },
  {
   "cell_type": "code",
   "execution_count": 63,
   "metadata": {
    "collapsed": false
   },
   "outputs": [
    {
     "name": "stdout",
     "output_type": "stream",
     "text": [
      "{1: 3, 2: 10}\n"
     ]
    }
   ],
   "source": [
    "print myDictionary # prints it content"
   ]
  },
  {
   "cell_type": "code",
   "execution_count": 67,
   "metadata": {
    "collapsed": true
   },
   "outputs": [],
   "source": [
    "# dictinoary is what's generally referred to as \"hashmap\"\n",
    "# or \"map\" in other computer programming langugages such as C, Java, etc.\n",
    "# This data structure can be viewed as a collection of \"key-value\" pairs\n",
    "# can naturally be used to store the \"count\" of some objects\n",
    "\n",
    "def computeOccurrences(listOfNumbers):\n",
    "    counts = {}\n",
    "    \n",
    "    for number in listOfNumbers:\n",
    "        if number not in counts:\n",
    "            counts[number] = 0\n",
    "        counts[number] += 1\n",
    "    \n",
    "    return counts\n",
    "    "
   ]
  },
  {
   "cell_type": "code",
   "execution_count": 68,
   "metadata": {
    "collapsed": false
   },
   "outputs": [
    {
     "name": "stdout",
     "output_type": "stream",
     "text": [
      "{1: 3, 2: 2, 3: 1, 4: 5, 5: 3}\n"
     ]
    }
   ],
   "source": [
    "aList = [1,2,3,4,5,5,5,1,1,2,4,4,4,4]\n",
    "counts = computeOccurrences(aList)\n",
    "\n",
    "print counts"
   ]
  },
  {
   "cell_type": "code",
   "execution_count": 70,
   "metadata": {
    "collapsed": false
   },
   "outputs": [],
   "source": [
    "# notice the \"if number not in counts\" line.\n",
    "# what happens if you try accessing a key that's not already defined?\n",
    "# by the way, dictionarys can have arbitrary \"types\" of keys and values.\n",
    "\n",
    "aDict = {}\n",
    "aDict['jeejoon'] = 'cool'\n",
    "aDict['youngryul'] = 'a student'\n",
    "aDict['gunhwan'] = 'church goer'\n"
   ]
  },
  {
   "cell_type": "code",
   "execution_count": 71,
   "metadata": {
    "collapsed": false
   },
   "outputs": [
    {
     "name": "stdout",
     "output_type": "stream",
     "text": [
      "church goer\n"
     ]
    }
   ],
   "source": [
    "print aDict['gunhwan']"
   ]
  },
  {
   "cell_type": "code",
   "execution_count": 72,
   "metadata": {
    "collapsed": false
   },
   "outputs": [
    {
     "ename": "KeyError",
     "evalue": "'seungjun'",
     "output_type": "error",
     "traceback": [
      "\u001b[0;31m---------------------------------------------------------------------------\u001b[0m",
      "\u001b[0;31mKeyError\u001b[0m                                  Traceback (most recent call last)",
      "\u001b[0;32m<ipython-input-72-f3573bf18c9c>\u001b[0m in \u001b[0;36m<module>\u001b[0;34m()\u001b[0m\n\u001b[0;32m----> 1\u001b[0;31m \u001b[0;32mprint\u001b[0m \u001b[0maDict\u001b[0m\u001b[0;34m[\u001b[0m\u001b[0;34m'seungjun'\u001b[0m\u001b[0;34m]\u001b[0m\u001b[0;34m\u001b[0m\u001b[0m\n\u001b[0m",
      "\u001b[0;31mKeyError\u001b[0m: 'seungjun'"
     ]
    }
   ],
   "source": [
    "print aDict['seungjun']"
   ]
  },
  {
   "cell_type": "code",
   "execution_count": 74,
   "metadata": {
    "collapsed": true
   },
   "outputs": [],
   "source": [
    "# it throws a Key error. \n",
    "# that is you can't access a key that's not already defined\n",
    "# \"KeyError\" exception is probly the #2 mistake that novice python programmers make.\n",
    "# back to the case of counting occurrences, this is why we \"checked\" to see if some number is already in our dictionary"
   ]
  },
  {
   "cell_type": "code",
   "execution_count": 75,
   "metadata": {
    "collapsed": false
   },
   "outputs": [
    {
     "data": {
      "text/plain": [
       "True"
      ]
     },
     "execution_count": 75,
     "metadata": {},
     "output_type": "execute_result"
    }
   ],
   "source": [
    "'jeejoon' in aDict"
   ]
  },
  {
   "cell_type": "code",
   "execution_count": 76,
   "metadata": {
    "collapsed": false
   },
   "outputs": [
    {
     "data": {
      "text/plain": [
       "False"
      ]
     },
     "execution_count": 76,
     "metadata": {},
     "output_type": "execute_result"
    }
   ],
   "source": [
    "'namgun' in aDict"
   ]
  },
  {
   "cell_type": "code",
   "execution_count": 77,
   "metadata": {
    "collapsed": false
   },
   "outputs": [
    {
     "name": "stdout",
     "output_type": "stream",
     "text": [
      "jeejoon cool\n",
      "youngryul a student\n",
      "gunhwan church goer\n"
     ]
    }
   ],
   "source": [
    "# sometimes it's necessary to \"iterate\" over the contents of a dictionary\n",
    "# you can use \"for loop\" just like how you would iterate over the contents of a list\n",
    "\n",
    "for key in aDict:\n",
    "    print key, aDict[key]"
   ]
  },
  {
   "cell_type": "code",
   "execution_count": 78,
   "metadata": {
    "collapsed": false
   },
   "outputs": [
    {
     "name": "stdout",
     "output_type": "stream",
     "text": [
      "3\n"
     ]
    }
   ],
   "source": [
    "# to get the number of contents in a dictionary\n",
    "\n",
    "print len(aDict)"
   ]
  },
  {
   "cell_type": "code",
   "execution_count": null,
   "metadata": {
    "collapsed": true
   },
   "outputs": [],
   "source": []
  },
  {
   "cell_type": "code",
   "execution_count": 79,
   "metadata": {
    "collapsed": true
   },
   "outputs": [],
   "source": [
    "# enough with the new language construct!!\n",
    "# let's do programming!!"
   ]
  },
  {
   "cell_type": "code",
   "execution_count": 81,
   "metadata": {
    "collapsed": true
   },
   "outputs": [],
   "source": [
    "# Given a sentence and a mapping that transforms certain words into others, convert the sentence\n",
    "# i.e. Jeejoon is cool!,    cool -> no jam\n",
    "# transform(\"Jeejoon is cool\", mapping) -> Jeejon is no jam\n",
    "# naturally what language struct would you use to represent \"mapping\" paramter?\n",
    "# hint -> \"Jeejoon is cool\".split()  == [\"Jeejoon\", \"is\", \"cool\"]\n"
   ]
  },
  {
   "cell_type": "code",
   "execution_count": 85,
   "metadata": {
    "collapsed": false
   },
   "outputs": [],
   "source": [
    "def transform(sentence, mapping):\n",
    "    pass\n"
   ]
  },
  {
   "cell_type": "code",
   "execution_count": 86,
   "metadata": {
    "collapsed": true
   },
   "outputs": [],
   "source": [
    "# 파이썬의 dictionary 혹은 다른 언어의 map 과 같은 데이터 스트럭쳐는 \n",
    "# 사실 수학과 굉장히 관련이 되어있다.\n",
    "# 전화번호부북을 떠올려 보자. 하필이면 이 전화번호부북은 3쪽 밖에 없다고 가정해보자. \n",
    "# 자 이제, 홍콩반점 전화번호 머야 라고 물으면,\n",
    "# \"홍콩반점 전화번호\" -> \"전화번호부북 3쪽 위에서 5섯번째 줄\" -> 휘릭 휘릭 -> 02 832 0143 \n",
    "# \"02 832 0143\" 입니다. 라고 빠르게 말할 수 있다.\n",
    "# 전화번호부 북을 navigate 하는게 굉장히 쉽다고 가정하면\n",
    "# 위 프로세스에서 중요한건 \"홍콩반점 전화번호\" -> \"전화번호부북 3쪽 위에서 5번째 줄\" 과 같은 transformation 과정이다.\n",
    "# 이 transformation 과정을 \"hashing\" 이라 부른다.\n",
    "# (http://www.laurentluce.com/posts/python-dictionary-implementation/)\n",
    "# 근데 이 hashing 이 mathematically strong 하지 않으면 collsion \"충돌\" 이 일어난다.\n",
    "# e.g.\n",
    "# \"홍콩반점 전화번호\" -> \"전화번호부북 3쪽 위에서 5번째 줄\"\n",
    "# \"지준반점 전화번호\" -> \"전화번호부북 3쪽 위에서 5번재 줄\"\n",
    "# ???\n",
    "# collision 이 전혀 없게 hashing 함수를 작성할 수 없을까?\n",
    "\n"
   ]
  },
  {
   "cell_type": "code",
   "execution_count": 87,
   "metadata": {
    "collapsed": true
   },
   "outputs": [],
   "source": []
  },
  {
   "cell_type": "code",
   "execution_count": 88,
   "metadata": {
    "collapsed": true
   },
   "outputs": [],
   "source": []
  },
  {
   "cell_type": "code",
   "execution_count": 89,
   "metadata": {
    "collapsed": true
   },
   "outputs": [],
   "source": [
    "# 맨위에서 다룬 dictionary 를 쓰지 않은 computeOccurrences 함수의 구현이 python dictionary 의 내부 동작 과정을 mimic 해서 짠 함수이다!"
   ]
  },
  {
   "cell_type": "code",
   "execution_count": 90,
   "metadata": {
    "collapsed": true
   },
   "outputs": [],
   "source": [
    "# 따라서 중요한 질문은\n",
    "# \"충돌이 잘 일어나지 않게 (혹은 절대 일어나지 않게), 하려면 어떻게 할까?\" \n",
    "# 이다.\n"
   ]
  },
  {
   "cell_type": "code",
   "execution_count": 11,
   "metadata": {
    "collapsed": true
   },
   "outputs": [],
   "source": [
    "# 1) 당연히 좋은 hashing 함수를 만들어야 한다. i.e. 잘 충돌하지 않는다. (http://mathworld.wolfram.com/HashFunction.html)\n",
    "# 어떤게 좋은 hashing 함수 일까?\n",
    "# -> 어떤 input distribution 이 주어지더라도 최대한 uniformly distributed 하게 변환 할 수 있는 함수.\n",
    "# 주로 주어진 인풋 a 에대해서 a*k + b mod p 와 같은 형태를 가진다.\n"
   ]
  },
  {
   "cell_type": "code",
   "execution_count": 12,
   "metadata": {
    "collapsed": true
   },
   "outputs": [],
   "source": [
    "# Input       Modulo 4    Modulo 5       Module 7\n",
    "\n",
    "# 10              2          0               3\n",
    " \n",
    "# 20              0          0               6\n",
    "\n",
    "# 30              2          0               2\n",
    "\n",
    "# 40              0          0               5\n",
    "\n",
    "# 50              0          0               1\n"
   ]
  },
  {
   "cell_type": "code",
   "execution_count": 14,
   "metadata": {
    "collapsed": true
   },
   "outputs": [],
   "source": [
    "# 2) 그럼에도 불구하고 비둘기집의 원리에 의하면 충돌은 피할 수 없다.\n",
    "\n",
    "# 비둘기 집은 100개인데 비둘기가 102마리 있다면\n",
    "# 최선의 경우에도 1개의 비둘기집이 최소 2명 이상의 비둘기를 가질 수 밖에 없다.\n",
    "# hashing 함수 또한 마찬가지 이다. N개의 bucket 밖에 없는데 (예를들면 list의 size), M > N 개의 서로다른 unique 한 아이템이 주어진다면\n",
    "# 어떻게 변환해도 충돌을 피할 수 없다.\n",
    "\n",
    "\n",
    "\n",
    "\n"
   ]
  },
  {
   "cell_type": "code",
   "execution_count": 15,
   "metadata": {
    "collapsed": true
   },
   "outputs": [],
   "source": [
    "# 3) 따라서 충돌이 일어났을 때, post processing 을 통해, 그 다음부터는 충돌이 다시 잘 일어나지 않도록 하는 방법들을\n",
    "# 마련해야 한다. (http://stackoverflow.com/questions/4980757/how-do-hashtables-deal-with-collisions)"
   ]
  },
  {
   "cell_type": "code",
   "execution_count": null,
   "metadata": {
    "collapsed": true
   },
   "outputs": [],
   "source": [
    "# 이제 숙제에서 다룬 문제하나를 다시 생각해보자.\n",
    "# problem:\n",
    "# \n",
    "\"\"\"\n",
    "MEDIUM HARD\n",
    " \n",
    "Given a list of integer numbers of an arbitrary length and a number x, find a pair of numbers in the list that sum to x\n",
    "if there is no such a pair, simply output an empty list []\n",
    " \n",
    "e.g.\n",
    "[1,2,3,4,5], 3.\n",
    " \n",
    "output [1, 2]\n",
    " \n",
    "e.g.\n",
    "[1,2,3,4,5], 100\n",
    "output []\n",
    " \n",
    "HINT: use double for loops\n",
    "Extra Credit: read http://w...content-available-to-author-only...s.org/count-pairs-with-given-sum/ and think a better way to do this than using double for loops.\n",
    "실제 테크 회사들 맨 첫라운드 인터뷰 문제로 자주 등장.\n",
    "\"\"\"\n",
    " \n",
    "def findPair(numbers, x):\n",
    "    pass"
   ]
  },
  {
   "cell_type": "code",
   "execution_count": null,
   "metadata": {
    "collapsed": true
   },
   "outputs": [],
   "source": []
  },
  {
   "cell_type": "code",
   "execution_count": 2,
   "metadata": {
    "collapsed": true
   },
   "outputs": [],
   "source": [
    "# youngruyl's solution\n",
    "\n",
    "def findPair(list,target):\n",
    "\tval=[]\n",
    "\tfor i in range(len(list)):\n",
    "\t\tfor j in range(i+1,len(list),1):\n",
    "\t\t\tif list[i]+list[j]==target:\n",
    "\t\t\t\tval.append([list[i],list[j]])\n",
    "\treturn val\n"
   ]
  },
  {
   "cell_type": "code",
   "execution_count": 3,
   "metadata": {
    "collapsed": false
   },
   "outputs": [
    {
     "data": {
      "text/plain": [
       "[[2, 5], [3, 4]]"
      ]
     },
     "execution_count": 3,
     "metadata": {},
     "output_type": "execute_result"
    }
   ],
   "source": [
    "findPair([2,3,4,5], 7)"
   ]
  },
  {
   "cell_type": "code",
   "execution_count": 4,
   "metadata": {
    "collapsed": true
   },
   "outputs": [],
   "source": [
    "# 맞는것 같다.\n",
    "# 하지만 굉장히 큰 리스트를 주면 어떻게 될까?\n",
    "import random\n",
    "\n",
    "def generateRandomList():\n",
    "    aList = []\n",
    "    for _ in xrange(100000):\n",
    "        aList.append(random.randrange(1, 10000))\n",
    "    return aList"
   ]
  },
  {
   "cell_type": "code",
   "execution_count": 5,
   "metadata": {
    "collapsed": true
   },
   "outputs": [],
   "source": [
    "aLongRandomList = generateRandomList()"
   ]
  },
  {
   "cell_type": "code",
   "execution_count": 6,
   "metadata": {
    "collapsed": false
   },
   "outputs": [],
   "source": [
    "import time\n",
    "\n",
    "startTime = time.time()\n",
    "findPair(aLongRandomList, random.randrange(1, 1000))\n",
    "endTime = time.time()"
   ]
  },
  {
   "cell_type": "code",
   "execution_count": 7,
   "metadata": {
    "collapsed": false
   },
   "outputs": [
    {
     "name": "stdout",
     "output_type": "stream",
     "text": [
      "function took 503.710397959 seconds\n"
     ]
    }
   ],
   "source": [
    "# 돌려보면 대략 4초나 걸린다..\n",
    "# 만약에 10000 개가 아니라 10만개의 리스트를 주면 어덜까?\n",
    "# 대략 몇십분쯤 걸린다.\n",
    "print \"function took {0} seconds\".format(endTime - startTime)\n"
   ]
  },
  {
   "cell_type": "code",
   "execution_count": 8,
   "metadata": {
    "collapsed": true
   },
   "outputs": [],
   "source": [
    "# 오늘 배운 개념을 써서 0.01초만에 돌게 하는 법은 없을까?\n"
   ]
  },
  {
   "cell_type": "code",
   "execution_count": 9,
   "metadata": {
    "collapsed": true
   },
   "outputs": [],
   "source": [
    "def fasterVersion():\n",
    "    pass\n"
   ]
  },
  {
   "cell_type": "code",
   "execution_count": null,
   "metadata": {
    "collapsed": true
   },
   "outputs": [],
   "source": []
  },
  {
   "cell_type": "code",
   "execution_count": 16,
   "metadata": {
    "collapsed": true
   },
   "outputs": [],
   "source": [
    "# 새로운 주제. 랜덤한 동작!"
   ]
  },
  {
   "cell_type": "markdown",
   "metadata": {},
   "source": [
    "컴퓨터에게 도대체 랜덤한 동작을 어떻게 시킬 수 있을까?"
   ]
  },
  {
   "cell_type": "markdown",
   "metadata": {},
   "source": [
    "정답: 시킬 수 없다."
   ]
  },
  {
   "cell_type": "markdown",
   "metadata": {},
   "source": [
    "왜?: 컴퓨터는 우리가 돌린 코드만 실행하기 때문이다"
   ]
  },
  {
   "cell_type": "markdown",
   "metadata": {},
   "source": [
    "그럼에도 불구하고 파이썬 및 다른 언어들에서 random 과 관련 된 기능들을 제공한다."
   ]
  },
  {
   "cell_type": "code",
   "execution_count": 18,
   "metadata": {
    "collapsed": false
   },
   "outputs": [
    {
     "name": "stdout",
     "output_type": "stream",
     "text": [
      "6\n",
      "6\n",
      "4\n",
      "5\n",
      "9\n",
      "9\n",
      "3\n",
      "6\n",
      "7\n",
      "1\n"
     ]
    }
   ],
   "source": [
    "import random\n",
    "\n",
    "for i in range(10):\n",
    "    print random.randrange(1, 10)"
   ]
  },
  {
   "cell_type": "code",
   "execution_count": 19,
   "metadata": {
    "collapsed": false
   },
   "outputs": [
    {
     "name": "stdout",
     "output_type": "stream",
     "text": [
      "9\n",
      "4\n",
      "7\n",
      "7\n",
      "1\n",
      "5\n",
      "5\n",
      "6\n",
      "5\n",
      "7\n"
     ]
    }
   ],
   "source": [
    "for i in range(10):\n",
    "    print random.randrange(1, 10)"
   ]
  },
  {
   "cell_type": "markdown",
   "metadata": {},
   "source": [
    "뭐지? 지금 남근이형이 헛소리 하는건가?"
   ]
  },
  {
   "cell_type": "markdown",
   "metadata": {},
   "source": [
    "컴퓨터에게 도대체 랜덤한 동작을 어떻게 시킬 수 있을까?\n",
    "\n",
    "정답: 네 시킬 수 없지만, 랜덤 처럼 보이는 동작을 시킬 순 있습니다."
   ]
  },
  {
   "cell_type": "markdown",
   "metadata": {},
   "source": [
    "위와 같은 동작을 PRNG 라 합니다. (Pusedo random number generator)\n",
    "\n",
    "이 PRNG 를 통해서 수많은 random 한 것들을 할 수 있습니다.\n",
    "\n",
    "i.e. sample from some random distribution."
   ]
  },
  {
   "cell_type": "markdown",
   "metadata": {},
   "source": [
    "예, 가위바위보 같은 것도 할 수 있죠.\n",
    "\n"
   ]
  },
  {
   "cell_type": "code",
   "execution_count": 20,
   "metadata": {
    "collapsed": true
   },
   "outputs": [],
   "source": [
    "def rock_paper_scissors():\n",
    "    num = random.random()\n",
    "    if num < 0.33333333:\n",
    "        return 'roc'\n",
    "    elif num < 0.66666666:\n",
    "        return 'papar'\n",
    "    else:\n",
    "        return 'scissors'"
   ]
  },
  {
   "cell_type": "code",
   "execution_count": null,
   "metadata": {
    "collapsed": true
   },
   "outputs": [],
   "source": []
  },
  {
   "cell_type": "markdown",
   "metadata": {},
   "source": [
    "근데 사실 이 PRNG 또한 \"pseudo\" 하기 때문에 정말 truely random 하지 않습니다."
   ]
  },
  {
   "cell_type": "markdown",
   "metadata": {},
   "source": [
    "랜덤해보이는 이유는 \"seed\" 라는 값을 매번 달리 가지기 때문이죠!"
   ]
  },
  {
   "cell_type": "code",
   "execution_count": 21,
   "metadata": {
    "collapsed": false
   },
   "outputs": [
    {
     "name": "stdout",
     "output_type": "stream",
     "text": [
      "2\n",
      "8\n",
      "7\n",
      "3\n",
      "5\n",
      "5\n",
      "6\n",
      "8\n",
      "1\n",
      "1\n"
     ]
    }
   ],
   "source": [
    "random.seed(1)\n",
    "for i in range(10):\n",
    "    print random.randrange(1, 10)"
   ]
  },
  {
   "cell_type": "code",
   "execution_count": 22,
   "metadata": {
    "collapsed": false,
    "scrolled": true
   },
   "outputs": [
    {
     "name": "stdout",
     "output_type": "stream",
     "text": [
      "2\n",
      "8\n",
      "7\n",
      "3\n",
      "5\n",
      "5\n",
      "6\n",
      "8\n",
      "1\n",
      "1\n"
     ]
    }
   ],
   "source": [
    "random.seed(1)\n",
    "for i in range(10):\n",
    "    print random.randrange(1, 10)"
   ]
  },
  {
   "cell_type": "markdown",
   "metadata": {},
   "source": [
    "그렇다면.. seed가 매우 중요한 것 같은데 어떻게 지정하는걸까요?"
   ]
  },
  {
   "cell_type": "code",
   "execution_count": 29,
   "metadata": {
    "collapsed": false
   },
   "outputs": [
    {
     "name": "stdout",
     "output_type": "stream",
     "text": [
      "1486239825.59\n",
      "time.struct_time(tm_year=1970, tm_mon=1, tm_mday=1, tm_hour=0, tm_min=0, tm_sec=0, tm_wday=3, tm_yday=1, tm_isdst=0)\n",
      "time.struct_time(tm_year=2017, tm_mon=2, tm_mday=4, tm_hour=20, tm_min=23, tm_sec=29, tm_wday=5, tm_yday=35, tm_isdst=0)\n"
     ]
    }
   ],
   "source": [
    "import time\n",
    "print time.time()\n",
    "print time.gmtime(0)\n",
    "print time.gmtime(1486239809.84)"
   ]
  },
  {
   "cell_type": "code",
   "execution_count": null,
   "metadata": {
    "collapsed": true
   },
   "outputs": [],
   "source": []
  }
 ],
 "metadata": {
  "kernelspec": {
   "display_name": "Python 2",
   "language": "python",
   "name": "python2"
  },
  "language_info": {
   "codemirror_mode": {
    "name": "ipython",
    "version": 2
   },
   "file_extension": ".py",
   "mimetype": "text/x-python",
   "name": "python",
   "nbconvert_exporter": "python",
   "pygments_lexer": "ipython2",
   "version": "2.7.12"
  }
 },
 "nbformat": 4,
 "nbformat_minor": 1
}

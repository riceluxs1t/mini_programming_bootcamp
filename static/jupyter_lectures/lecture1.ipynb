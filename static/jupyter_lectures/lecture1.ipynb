{
 "cells": [
  {
   "cell_type": "code",
   "execution_count": 2,
   "metadata": {
    "collapsed": false
   },
   "outputs": [
    {
     "data": {
      "text/plain": [
       "3"
      ]
     },
     "execution_count": 2,
     "metadata": {},
     "output_type": "execute_result"
    }
   ],
   "source": [
    "# <- 왼쪽에 보이는 (In [ ]:  ...) 부분을 파이썬 Shell 이라 함.\n",
    "# 파이썬은 Interactive Language 라서 (비슷한 예, Matlab) 실제로 한줄 한줄 쳐서 코딩을 할 수 도 있고\n",
    "# Notepad++ 등과 같은 \"코드 에디터\" 를 이용해서 코딩을 할 수 도 있음.\n",
    "# 여기서 \"#\" 은 실제 코드가 아니라 코드의 설명을 위한 주석 을 의미함. # 로 시작하는 라인은 파이썬이 처리하지 않고 무시.\n",
    "1 + 2\n"
   ]
  },
  {
   "cell_type": "code",
   "execution_count": 3,
   "metadata": {
    "collapsed": false
   },
   "outputs": [
    {
     "data": {
      "text/plain": [
       "12300"
      ]
     },
     "execution_count": 3,
     "metadata": {},
     "output_type": "execute_result"
    }
   ],
   "source": [
    "# In [2]: 에서 2 를 line No 라 부름. 줄 번호. \n",
    "# 2 번줄에서 볼 수 있다 싶이 1 + 2 을 입력하면 그에 해당하는 답인 3 을 처리해줌 비슷하게 \n",
    "# 직관적으로 생각하는 Math Arithematics 를 모두 할 수 있음\n",
    "100 * 123\n"
   ]
  },
  {
   "cell_type": "code",
   "execution_count": 4,
   "metadata": {
    "collapsed": false
   },
   "outputs": [
    {
     "data": {
      "text/plain": [
       "5"
      ]
     },
     "execution_count": 4,
     "metadata": {},
     "output_type": "execute_result"
    }
   ],
   "source": [
    "1 * 5"
   ]
  },
  {
   "cell_type": "code",
   "execution_count": 5,
   "metadata": {
    "collapsed": false
   },
   "outputs": [
    {
     "data": {
      "text/plain": [
       "1"
      ]
     },
     "execution_count": 5,
     "metadata": {},
     "output_type": "execute_result"
    }
   ],
   "source": [
    "100 / 100"
   ]
  },
  {
   "cell_type": "code",
   "execution_count": 6,
   "metadata": {
    "collapsed": false
   },
   "outputs": [
    {
     "data": {
      "text/plain": [
       "32"
      ]
     },
     "execution_count": 6,
     "metadata": {},
     "output_type": "execute_result"
    }
   ],
   "source": [
    "# 제곱 연산\n",
    "# 2^5 승\n",
    "2 ** 5 "
   ]
  },
  {
   "cell_type": "code",
   "execution_count": 7,
   "metadata": {
    "collapsed": false
   },
   "outputs": [
    {
     "ename": "ZeroDivisionError",
     "evalue": "integer division or modulo by zero",
     "output_type": "error",
     "traceback": [
      "\u001b[0;31m---------------------------------------------------------------------------\u001b[0m",
      "\u001b[0;31mZeroDivisionError\u001b[0m                         Traceback (most recent call last)",
      "\u001b[0;32m<ipython-input-7-e27ed303a8ef>\u001b[0m in \u001b[0;36m<module>\u001b[0;34m()\u001b[0m\n\u001b[1;32m      1\u001b[0m \u001b[0;31m# 직관적인 모든걸 지원하지만 직관적(혹은 수학적)으로 정의되지 않은 것은 안됨.\u001b[0m\u001b[0;34m\u001b[0m\u001b[0;34m\u001b[0m\u001b[0m\n\u001b[1;32m      2\u001b[0m \u001b[0;31m# e.g. Division by zero\u001b[0m\u001b[0;34m\u001b[0m\u001b[0;34m\u001b[0m\u001b[0m\n\u001b[0;32m----> 3\u001b[0;31m \u001b[0;36m5\u001b[0m \u001b[0;34m/\u001b[0m \u001b[0;36m0\u001b[0m\u001b[0;34m\u001b[0m\u001b[0m\n\u001b[0m",
      "\u001b[0;31mZeroDivisionError\u001b[0m: integer division or modulo by zero"
     ]
    }
   ],
   "source": [
    "# 직관적인 모든걸 지원하지만 직관적(혹은 수학적)으로 정의되지 않은 것은 안됨.\n",
    "# e.g. Division by zero\n",
    "5 / 0\n"
   ]
  },
  {
   "cell_type": "code",
   "execution_count": 8,
   "metadata": {
    "collapsed": true
   },
   "outputs": [],
   "source": [
    "# 위에서 알 수 있는 것 처럼 파이썬에서 문법적인 실수를 하면 오류를 뱉음.\n",
    "# 이 오류를 \"Exception\" 이라함.\n",
    "# 이 오류는 주로 \n",
    "# 1) 무엇 때문에 발생했는지 (-----> 3 5 / 0)\n",
    "# 2) 어떤 이유로 문법에 안맞는지. (ZeroDivisionError: ...)\n",
    "# 알려줌.\n"
   ]
  },
  {
   "cell_type": "code",
   "execution_count": 9,
   "metadata": {
    "collapsed": false
   },
   "outputs": [
    {
     "data": {
      "text/plain": [
       "0"
      ]
     },
     "execution_count": 9,
     "metadata": {},
     "output_type": "execute_result"
    }
   ],
   "source": [
    "# 우리가 직관적으로 생각하는 것과는 다르게 컴퓨터는\n",
    "# 정수 (1,2,3,4,5, -1, -2 ,0...) 와\n",
    "# 실수를 다르게 처리함.\n",
    "# 따라서 직관적이지 않은 연산이 일어 날 수 있음\n",
    "# 1/2 = 0.5 ? \n",
    "1/2"
   ]
  },
  {
   "cell_type": "code",
   "execution_count": 10,
   "metadata": {
    "collapsed": false
   },
   "outputs": [
    {
     "data": {
      "text/plain": [
       "0.5"
      ]
     },
     "execution_count": 10,
     "metadata": {},
     "output_type": "execute_result"
    }
   ],
   "source": [
    "# 정수끼리의 연산 결과는 항상 몫 부분을 제외한 나머지를 내림 처리함.\n",
    "# 실수 연산을 하고 싶으면 1.0 / 2.0 으로 처리 해야 됨.\n",
    "1.0/2.0\n"
   ]
  },
  {
   "cell_type": "code",
   "execution_count": 11,
   "metadata": {
    "collapsed": false
   },
   "outputs": [
    {
     "data": {
      "text/plain": [
       "0.5"
      ]
     },
     "execution_count": 11,
     "metadata": {},
     "output_type": "execute_result"
    }
   ],
   "source": [
    "# 하지만 애매한 경우, 즉 1 / 2.0 혹은 1.0 / 2 와 같은 경우는 \n",
    "# Cardinality가 작은 집합을 큰 집합으로 바꾼 뒤 결과를 계산 함(i.e. | Integer | < | Real Numbers |)\n",
    "# 따라서 1.0/2, 1/2.0 과 같은 연산은 0.5 를 줌\n",
    "1/2.0"
   ]
  },
  {
   "cell_type": "code",
   "execution_count": 13,
   "metadata": {
    "collapsed": false
   },
   "outputs": [
    {
     "data": {
      "text/plain": [
       "'Rice University'"
      ]
     },
     "execution_count": 13,
     "metadata": {},
     "output_type": "execute_result"
    }
   ],
   "source": [
    "# 정수, 실수와 마찬가지로 컴퓨터로 \"문자\"들을 처리하고 싶은 경우도 굉장히 많음.\n",
    "# e.g) 재준이의 이름을 100번 쓰는 프로그램\n",
    "# 이를 위해 파이썬은 str 이라는 타입을 제공.\n",
    "# 정수, 실수와 마찬가지로 str 은 문자(혹은 여러개의 문자들)을 표현함\n",
    "# 표현하고 싶은 문자를 \" \" 혹은 ' ' 감싸면 됨.\n",
    "\"Rice University\""
   ]
  },
  {
   "cell_type": "code",
   "execution_count": 14,
   "metadata": {
    "collapsed": false
   },
   "outputs": [
    {
     "data": {
      "text/plain": [
       "\"Rice's Best Guy\""
      ]
     },
     "execution_count": 14,
     "metadata": {},
     "output_type": "execute_result"
    }
   ],
   "source": [
    "# \" \" 와 ' ' 은 서로 같다고 보면 됨\n",
    "# 단 Rice's Best Guy 와 같은 문자열을 찍고 싶으면 \" \" 로 감은 뒤 '를 추가해야 됨.\n",
    "\"Rice's Best Guy\""
   ]
  },
  {
   "cell_type": "code",
   "execution_count": 15,
   "metadata": {
    "collapsed": false
   },
   "outputs": [
    {
     "name": "stdout",
     "output_type": "stream",
     "text": [
      "Rice's Best Guy\n"
     ]
    }
   ],
   "source": [
    "# 기본적으로 파이썬 쉘의 출력값은 유저가 입력과 동일한 형태로 보여줌.\n",
    "# 실제 출력을 하려면 Print 라는 일종의 함수를 사용해야 됨\n",
    "print \"Rice's Best Guy\""
   ]
  },
  {
   "cell_type": "code",
   "execution_count": 16,
   "metadata": {
    "collapsed": false,
    "scrolled": false
   },
   "outputs": [
    {
     "name": "stdout",
     "output_type": "stream",
     "text": [
      "yes bro. G Stang gogogo\n"
     ]
    }
   ],
   "source": [
    "# 이렇게 한땀 한땀 치는게 참 재미있지만 \n",
    "# 우리가 쓰는 모든 프로그램들을 작게는 몇천줄에서 길게는 몇십만줄 까지 김\n",
    "# 실제로 전 회사에서 1년동안 40만줄의 코드를 본인은 짬\n",
    "# 위와 같은 줄들을 40만번 쳤다고 생각하면 얼추 맞음.\n",
    "# 근데 이중 어떤 연산들은 빈번하게 일어나서 매번 반복해서 치고 싶지 않고\n",
    "# 어떤 동일한 목적을 가진 라인들을 어떤 추상적인 개념으로 묶어놓고 \n",
    "# 재사용하고 싶음.\n",
    "# 예)\n",
    "# \"재준아 나 머리도 짜르고 싶고 샴푸도 떨어져서 ..어쩌고 저쩌고.. 타겟 가고싶다\"\n",
    "# \"예 형, 쥐스탱 부릉부릉\"\n",
    "#\n",
    "# 이 아니라\n",
    "# \"가자\"\n",
    "# \"예 형, 쥐스탱 부릉부릉\"\n",
    "# 과 같이 처리하고 싶음.\n",
    "#\n",
    "# 이때 \"가자\"에 해당하는 추상적인 개념이 함수 <- 라는 개념임.\n",
    "# 파이썬에서의 함수는 def functionName(...): 의 형태를 가짐\n",
    "\n",
    "def letsGoToTarget():\n",
    "    return \"yes bro. G Stang gogogo\"\n",
    "\n",
    "print letsGoToTarget()\n"
   ]
  },
  {
   "cell_type": "code",
   "execution_count": 24,
   "metadata": {
    "collapsed": false
   },
   "outputs": [
    {
     "name": "stdout",
     "output_type": "stream",
     "text": [
      "jeejoon G stang gogogo\n",
      "Djoon! G stang gogogo\n",
      "Gjoon G stang gogogo\n"
     ]
    }
   ],
   "source": [
    "# 근데 사실 노잼준의 반응 처럼 항상 같은 말만하면 재미없음\n",
    "# 예를들어 쥐준이의 애칭을 불러주면\n",
    "# 이걸 마지막에 반복하게 하고 싶을 수 있음\n",
    "# 예)\n",
    "# \"가자 쥐준\" -> \"쥐준 부릉부릉\"\n",
    "# \"가자 재준아\" -> \"재준아 부릉부릉\"\n",
    "# \"가자 Jeejoon\" -> \"Jeejoon 부릉부릉\"\n",
    "# 과 같이 프로그램하고 싶음\n",
    "# 이럴려면 함수를 호출 할 때, 내가 부르고 싶은 애칭을 전달해줘야 함\n",
    "# 이런 전달하는 값들을 parameter(인자)) 라고 부르고 함수는 0개 혹은 여러개의 인자들을 가질 수 있음\n",
    "\n",
    "def letsGoToTarget(nickName):\n",
    "    return nickName + \" G stang gogogo\"\n",
    "\n",
    "print letsGoToTarget(\"jeejoon\")\n",
    "print letsGoToTarget(\"Djoon!\")\n",
    "print letsGoToTarget(\"Gjoon\")\n"
   ]
  },
  {
   "cell_type": "markdown",
   "metadata": {},
   "source": [
    "자 이제, 파이썬으로 정수, 실수, 문자열, 그리고 함수라는걸 어떻게 사용하는지 배웠는데 여전히 뭔가 부족한 것 같음\n",
    "\n",
    "우리가 시험을 칠 때, 잘치려면 열심히 공부해야 됨. \n",
    "\n",
    "근데, 열심히 공부하려면 주로 무언갈 열심히 외워야 됨.\n",
    "\n",
    "그래야 시험에서 비슷한 개념 혹은 같은 개념을 본 다면 \"기억\" 이라는 과정을 통해 답을 적을 수 있고 점수를 잘 맞을 수 있음.\n",
    "\n",
    "사람의 \"기억\"과 같은 동작을 프로그래밍으로는 어떻게 할까? 이게 바로 변수(Variable) 이라는 개념!"
   ]
  },
  {
   "cell_type": "code",
   "execution_count": 1,
   "metadata": {
    "collapsed": true
   },
   "outputs": [],
   "source": [
    "a = 1"
   ]
  },
  {
   "cell_type": "markdown",
   "metadata": {},
   "source": [
    "위와 같은 코드가 있을 때 이건 도대체 무엇을 의미하는 걸까?\n",
    "\n",
    "a <- 변수 이름\n",
    "= <- \"equality\" 가 아니라 \"assignment\" 를 나타내는 기호\n",
    "1 <- 변수의 값.\n",
    "\n",
    "즉, a라는 이름을 가진 변수에 (이름은 아무렇게나 지을 수 있음, b 도 되고, byunsoo 라고 적어도 되고 마음대로 적어도 됨. 단, 숫자 혹은 특수 문자로 시작 할 수 없음!) 1이라는 값을 넣어 \"기억\" 하는 코드임. 이를, 변수를 \"선언\" 한다 / \"만든다\" / \"저장\" 한다 라고함.\n",
    "\n",
    "이 변수는 우리가 이미 다룬, 정수 / 실수 / 문자열 아무거나 다 저장 할 수 있음!"
   ]
  },
  {
   "cell_type": "code",
   "execution_count": 2,
   "metadata": {
    "collapsed": false
   },
   "outputs": [
    {
     "name": "stdout",
     "output_type": "stream",
     "text": [
      "1\n"
     ]
    }
   ],
   "source": [
    "print a"
   ]
  },
  {
   "cell_type": "code",
   "execution_count": 6,
   "metadata": {
    "collapsed": false
   },
   "outputs": [
    {
     "name": "stdout",
     "output_type": "stream",
     "text": [
      "5.0\n",
      "i'm a variable\n"
     ]
    }
   ],
   "source": [
    "b = 5.0\n",
    "c = \"i'm a variable\"\n",
    "print b\n",
    "print c"
   ]
  },
  {
   "cell_type": "markdown",
   "metadata": {},
   "source": [
    "한번 선언한 변수는 그 값을 바꿀 수 있을 까?\n",
    "물론! 그냥 새로운 값을 assign 해버리면 됨!"
   ]
  },
  {
   "cell_type": "code",
   "execution_count": 7,
   "metadata": {
    "collapsed": false
   },
   "outputs": [
    {
     "name": "stdout",
     "output_type": "stream",
     "text": [
      "4.0\n"
     ]
    }
   ],
   "source": [
    "a = 4.0 # 우리가 모두 원하는 GPA\n",
    "print a"
   ]
  },
  {
   "cell_type": "markdown",
   "metadata": {},
   "source": [
    "a 라는 변수의 값이 기존의 1이라는 값에서 4.0으로 바뀌었음.\n",
    "변수는 항상, 정수 / 실수 / 문자열 값만 가져야 하는걸까?\n",
    "\n",
    "아니!\n",
    "\n",
    "우리가 정의한 \"함수\" 들을 써서도 정의 할 수 있음!\n",
    "\n",
    "위에서 다룬 함수들은, 함수의 말미에 주로 어떤 값들을 \"return\" 하는데 이를 \"return value\" 라 함 혹은 함수의 결과물 / 함수의 값 이라 함.\n",
    "\n"
   ]
  },
  {
   "cell_type": "code",
   "execution_count": 10,
   "metadata": {
    "collapsed": false
   },
   "outputs": [],
   "source": [
    "def letsGoToTarget(nickName):\n",
    "    return nickName + \" G stang gogogo\"\n",
    "\n",
    "\n",
    "what_am_i = letsGoToTarget(\"JJ\")\n",
    "# what_am_i 의 값은?"
   ]
  },
  {
   "cell_type": "markdown",
   "metadata": {},
   "source": [
    "물론,\n",
    "모든 함수가 항상 letsGoToTarget 과 같이 단순한 동작만을 하는건 아니기 때문에 (i.e. 숙제가 요구하는 함수들!)\n",
    "faiarly complex 한 동작을 하기 위해선 함수 내부에서도 variable 들을 적절히 선언해서 사용해야 됨!\n",
    "\n"
   ]
  },
  {
   "cell_type": "code",
   "execution_count": 11,
   "metadata": {
    "collapsed": true
   },
   "outputs": [],
   "source": [
    "def what_do_I_do(mysteryInput):\n",
    "    a = mysteryInput\n",
    "    b = 2 * a\n",
    "    c = 2 * b\n",
    "    return c\n",
    "    "
   ]
  },
  {
   "cell_type": "code",
   "execution_count": null,
   "metadata": {
    "collapsed": true
   },
   "outputs": [],
   "source": [
    "print what_do_I_do(5)"
   ]
  },
  {
   "cell_type": "code",
   "execution_count": null,
   "metadata": {
    "collapsed": true
   },
   "outputs": [],
   "source": []
  },
  {
   "cell_type": "code",
   "execution_count": null,
   "metadata": {
    "collapsed": true
   },
   "outputs": [],
   "source": [
    "# 이쯤에서 예제\n",
    "# exercise) 숫자 두개를 받아서 합을 출력하느 함수를 짜 보시오\n"
   ]
  },
  {
   "cell_type": "code",
   "execution_count": 23,
   "metadata": {
    "collapsed": false
   },
   "outputs": [
    {
     "name": "stdout",
     "output_type": "stream",
     "text": [
      "1\n",
      "2\n",
      "3\n",
      "4\n",
      "5\n"
     ]
    }
   ],
   "source": [
    "# 근데 만약에 숫자 두개가 아니라 \n",
    "# 랜덤한 갯수의 숫자를 받아서 그 숫자의 합을 출력하는 함수를 짜라고 했다면 어떻게 짜야될까?\n",
    "# 이걸 만약에 사람이 해야 했다면\n",
    "# \"자 재준아 내가 불러주는 숫자들을 다합해봐\"\n",
    "# \"1,2,3,4,5,1232312,32,321,32,2,45,123,123,12,412,3,21312,32,13123\"\n",
    "# 그럼 재준이는 재빨리 이걸 연필을 이용해 \"종이\"에 받아적을 테고\n",
    "# 종이에 받아적은 다음에 이 숫자들을 \"순차적으로 하나하나 보면서\" 더할꺼임\n",
    "# 컴퓨터 또한 이 \"종이\" 와 \"순차적으로 하나하나 봄\"에 해당하는 연산이 필요함\n",
    "# 이게 list, for loop 임.\n",
    "# list 는 [1,2,3,4,5] 과 같이 [로 시작해서 ]로 끝나고 그 사이에 ,를 이용해 적고 싶은 값들을 적으면 됨\n",
    "# for loop은 항상 \"for X in Y: \" 의 형태로 이루어지는데\n",
    "# 이는 \"Y의 값들을 하나하나 읽으면서 하나 읽을 때 마다 X를 그 값으로 셋팅해라\" 라는 의미임.\n",
    "# 예) 1 부터 5까지 숫자들을 하나하나씩 다 출력해라\n",
    "# 안좋은 방법\n",
    "print 1\n",
    "print 2\n",
    "print 3\n",
    "print 4\n",
    "print 5\n"
   ]
  },
  {
   "cell_type": "code",
   "execution_count": 25,
   "metadata": {
    "collapsed": false
   },
   "outputs": [
    {
     "name": "stdout",
     "output_type": "stream",
     "text": [
      "1\n",
      "2\n",
      "3\n",
      "4\n",
      "5\n"
     ]
    }
   ],
   "source": [
    "# 좋은 방법\n",
    "numbers = [1, 2, 3, 4, 5]\n",
    "for number in numbers:\n",
    "    print number"
   ]
  },
  {
   "cell_type": "code",
   "execution_count": 26,
   "metadata": {
    "collapsed": false
   },
   "outputs": [
    {
     "data": {
      "text/plain": [
       "[0, 1, 2, 3, 4]"
      ]
     },
     "execution_count": 26,
     "metadata": {},
     "output_type": "execute_result"
    }
   ],
   "source": [
    "# 근데 생각해보면 \n",
    "# 이 좋은 방법도 \"1 부터 100까지 출력하시오\" 라고 했다면 매우 좋지 않음을 알 수 있음.\n",
    "# 왜?\n",
    "# 1 부터 100까지 다 쳐야하니깐.\n",
    "# numbers = [1,2,3,.........99,100] 어느 세월이 이걸 다침?\n",
    "# 100까지야 칠 수 있다고 하지만 1 부터 1000000까지 다 합하시오 라고 했다면?\n",
    "# 존나 오래걸릴 꺼임\n",
    "# 이를 위해서 파이썬은 이미 굉장히 사랑받는 함수를 구현해 놓음\n",
    "# range 함수!\n",
    "# range(5) = [0, 1, 2, 3, 4]\n",
    "\n",
    "range(5)"
   ]
  },
  {
   "cell_type": "code",
   "execution_count": 28,
   "metadata": {
    "collapsed": false
   },
   "outputs": [
    {
     "data": {
      "text/plain": [
       "[1, 2, 3, 4, 5, 6, 7, 8, 9, 10, 11, 12, 13, 14, 15, 16, 17, 18, 19, 20]"
      ]
     },
     "execution_count": 28,
     "metadata": {},
     "output_type": "execute_result"
    }
   ],
   "source": [
    "# 만약 1부터 시작해서 20까지 만들고 싶다면?\n",
    "range(1, 21)"
   ]
  },
  {
   "cell_type": "code",
   "execution_count": 29,
   "metadata": {
    "collapsed": false
   },
   "outputs": [
    {
     "data": {
      "text/plain": [
       "[1, 3, 5, 7, 9, 11, 13, 15, 17, 19]"
      ]
     },
     "execution_count": 29,
     "metadata": {},
     "output_type": "execute_result"
    }
   ],
   "source": [
    "# 1부터 20까지 짝수는 다건너뛰고 만들고 싶다면?\n",
    "range(1, 21, 2)"
   ]
  },
  {
   "cell_type": "code",
   "execution_count": 31,
   "metadata": {
    "collapsed": false
   },
   "outputs": [
    {
     "data": {
      "text/plain": [
       "[3, 7]"
      ]
     },
     "execution_count": 31,
     "metadata": {},
     "output_type": "execute_result"
    }
   ],
   "source": [
    "# 굉장히 제너럴 한 의미로 range(a, b, c) \n",
    "# 는 다음과 같음\n",
    "# \"a 부터 시작해서 b-1 까지의 범위를 고려하는데 한번에 c 만큼 증가하시오.\"\n",
    "# i.e. a, a+c, a+2c, a+3c, ...., a+nc where a+nc <= b-1 and a + (n+1)c > b-1\n",
    "range(3, 10, 4)"
   ]
  },
  {
   "cell_type": "code",
   "execution_count": 32,
   "metadata": {
    "collapsed": true
   },
   "outputs": [],
   "source": [
    "# 자 이제 range 를 숙지 했다면 굉장히 많은 것들을 할 수 있음\n",
    "# exercise) 1~526의 숫자 중에서 7의 배수들을 다 프린트 하시오\n",
    "# exercise) 1~1000000 의 숫자 합을 구하시오\n"
   ]
  },
  {
   "cell_type": "code",
   "execution_count": 33,
   "metadata": {
    "collapsed": false
   },
   "outputs": [
    {
     "name": "stdout",
     "output_type": "stream",
     "text": [
      "5 is graeter than 4\n"
     ]
    }
   ],
   "source": [
    "# 코드를 짜다보면 특정 조건이 만족 될 때만 특정 액션을 취하고 싶은 경우가 있음\n",
    "# 3, 6, 9 게임. \n",
    "# 이때 사용 되는게 if 문임\n",
    "# if 조건: 액션\n",
    "# 의 형태로 이루어 짐\n",
    "if 5 > 4: \n",
    "    print \"5 is graeter than 4\""
   ]
  },
  {
   "cell_type": "code",
   "execution_count": 35,
   "metadata": {
    "collapsed": false
   },
   "outputs": [],
   "source": [
    "if 1 > 2:\n",
    "    print \"I should not be printed!\"\n",
    "\n"
   ]
  },
  {
   "cell_type": "code",
   "execution_count": 37,
   "metadata": {
    "collapsed": false
   },
   "outputs": [
    {
     "name": "stdout",
     "output_type": "stream",
     "text": [
      "10 is divisible by 2\n",
      "10 is again divisible by 5\n"
     ]
    }
   ],
   "source": [
    "# if 를 한개만 쓰는게 아니라 여러개 쓸 수도 있음\n",
    "if 10 % 2 == 0:\n",
    "    print \"10 is divisible by 2\"\n",
    "if 10 % 5 == 0:\n",
    "    print \"10 is again divisible by 5\"\n",
    "    "
   ]
  },
  {
   "cell_type": "code",
   "execution_count": 38,
   "metadata": {
    "collapsed": false
   },
   "outputs": [
    {
     "name": "stdout",
     "output_type": "stream",
     "text": [
      "10 is divisible by 5\n"
     ]
    }
   ],
   "source": [
    "# 근데 2, 5 는 둘다 10의 공약수지만 가장 큰 공약수만 프린트하고 싶을 수 있음\n",
    "# 그땐 elif 를 쓴다\n",
    "# 패턴.\n",
    "# if 조건:\n",
    "#     액션1\n",
    "# elif 조건2:\n",
    "#     액션2 \n",
    "\n",
    "if 10 % 5 == 0:\n",
    "    print \"10 is divisible by 5\"\n",
    "elif 10 % 2 == 0:\n",
    "    print \"10 is divisible by 2\"\n",
    "    "
   ]
  },
  {
   "cell_type": "code",
   "execution_count": 39,
   "metadata": {
    "collapsed": true
   },
   "outputs": [],
   "source": [
    "# 한때 실리콘 벨리가 한창 붐일 때\n",
    "# 모든이들이 \"저도 프로그래밍 할줄 압니다\"\n",
    "# \"저도요!\"\n",
    "# 할 때가 있었음\n",
    "# 그때 회사들이 \"진짜 프로그래밍의 프자도 모르는 놈들을 거르자!\"\n",
    "# 라고 해서 만들어진 문제가 FizzBuzz 문제임\n",
    "# 문제는 굉장히 심플함. 1 부터 100 까지 숫자가 주어질 때, 3의 배수면 Fizz, 5의 배수면 Buzz를 출력하고 \n",
    "# 이 케이스에 해당안하면 그냥 숫자를 그대로 출력하시오. \n",
    "# 라는 문제를 냈음\n",
    "# 존나 서프라이징하개도 지원자의 90%가 이 간단한 문제를 통과 못했다..\n",
    "# 라는 소문이 있음. 오늘 레슨의 마지막으로 이 FizzBuzz 함수를 짜보자.\n",
    "\n",
    "def FizzBuzz(numbers):\n",
    "    # your implementaiton!!\n",
    "    return"
   ]
  },
  {
   "cell_type": "code",
   "execution_count": null,
   "metadata": {
    "collapsed": true
   },
   "outputs": [],
   "source": []
  }
 ],
 "metadata": {
  "kernelspec": {
   "display_name": "Python 2",
   "language": "python",
   "name": "python2"
  },
  "language_info": {
   "codemirror_mode": {
    "name": "ipython",
    "version": 2
   },
   "file_extension": ".py",
   "mimetype": "text/x-python",
   "name": "python",
   "nbconvert_exporter": "python",
   "pygments_lexer": "ipython2",
   "version": "2.7.12"
  }
 },
 "nbformat": 4,
 "nbformat_minor": 1
}

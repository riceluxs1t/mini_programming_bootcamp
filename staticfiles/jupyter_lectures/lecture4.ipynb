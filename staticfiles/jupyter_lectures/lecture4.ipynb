{
 "cells": [
  {
   "cell_type": "code",
   "execution_count": 2,
   "metadata": {
    "collapsed": false
   },
   "outputs": [],
   "source": [
    "\n",
    "#이때까지 우리가 한 프로그래밍은 한줄에 단순한 하나의 일을 파이썬에게 시키는거에 불과 했다.\n",
    "#이러한 프로그래밍 방법을 주로 \"imperative programming\" 이라 한다.\n",
    "\n",
    "#in-class excercise:\n",
    "\n",
    "#    write a program that represents a network of five people\n",
    "#    where people A, B, and C are all friends to each other and people D and E are friends.\n",
    "#    How would you represent \"people\" and their \"friendship\" relationships?\n"
   ]
  },
  {
   "cell_type": "code",
   "execution_count": 9,
   "metadata": {
    "collapsed": false
   },
   "outputs": [],
   "source": [
    "\n",
    "#e.g. \n",
    "\n",
    "a = \"personA\"\n",
    "b = \"personB\"\n",
    "c = \"personC\"\n",
    "d = \"personD\"\n",
    "# and more..\n",
    "\n",
    "friendships = set()\n",
    "\n",
    "friendships.add((a, b))\n",
    "friendships.add((a, c))\n",
    "friendships.add((b, c))\n",
    "\n",
    "# and more..\n"
   ]
  },
  {
   "cell_type": "code",
   "execution_count": 7,
   "metadata": {
    "collapsed": false
   },
   "outputs": [
    {
     "data": {
      "text/plain": [
       "True"
      ]
     },
     "execution_count": 7,
     "metadata": {},
     "output_type": "execute_result"
    }
   ],
   "source": [
    "# by the way, remember Python's dictionary structure?\n",
    "# \"set\" is a similar structure that Python provides that is primarily used for \"membership\" checking\n",
    "# i.e.\n",
    "\n",
    "(a, b) in friendships # people A and B are friends!\n",
    "\n"
   ]
  },
  {
   "cell_type": "code",
   "execution_count": 10,
   "metadata": {
    "collapsed": false
   },
   "outputs": [
    {
     "data": {
      "text/plain": [
       "False"
      ]
     },
     "execution_count": 10,
     "metadata": {},
     "output_type": "execute_result"
    }
   ],
   "source": [
    "(c, d) in friendships # people C and D are not friends!"
   ]
  },
  {
   "cell_type": "code",
   "execution_count": 11,
   "metadata": {
    "collapsed": true
   },
   "outputs": [],
   "source": [
    "# what is this expression of the form (x, y, ...) ?\n",
    "# This is Python's \"tuple\" expressions. 수학에서의 벡터와 매우 유사한 개념이다. 하지만 벡터와는 다르게\n",
    "# 터플의 각각 원소 x, y, ..., 등은 아무런 타입이 될 수 있다.\n",
    "# You can group any two or more things together in a parenthesis and assign them to a variable \n",
    "#\n",
    "# More tuple examples!"
   ]
  },
  {
   "cell_type": "code",
   "execution_count": null,
   "metadata": {
    "collapsed": true
   },
   "outputs": [],
   "source": [
    "tupleExample1 = ('A', 'B') # e.g. 저번학기 재준이 성적"
   ]
  },
  {
   "cell_type": "code",
   "execution_count": 12,
   "metadata": {
    "collapsed": true
   },
   "outputs": [],
   "source": [
    "tupleExample2 = ('A', 'B', 'C', 'D', 'F') # e.. 저번학기 재준이 총 과목 성적."
   ]
  },
  {
   "cell_type": "code",
   "execution_count": 13,
   "metadata": {
    "collapsed": true
   },
   "outputs": [],
   "source": [
    "tupleExample3 = ('A+', 98, 'A', 93, 'A-', 91) # A+, A-, A 컷트라인 점수"
   ]
  },
  {
   "cell_type": "code",
   "execution_count": 14,
   "metadata": {
    "collapsed": true
   },
   "outputs": [],
   "source": [
    "# 터플 끼리의 덧셈은 어떻게 정의 될까?"
   ]
  },
  {
   "cell_type": "code",
   "execution_count": 15,
   "metadata": {
    "collapsed": false
   },
   "outputs": [
    {
     "data": {
      "text/plain": [
       "(95, 100, 100, 105)"
      ]
     },
     "execution_count": 15,
     "metadata": {},
     "output_type": "execute_result"
    }
   ],
   "source": [
    "numberTuple1 = (95, 100)\n",
    "numberTuple2 = (100, 105)\n",
    "\n",
    "numberTuple1 + numberTuple2"
   ]
  },
  {
   "cell_type": "code",
   "execution_count": 17,
   "metadata": {
    "collapsed": true
   },
   "outputs": [],
   "source": [
    "# 터플 끼리의 덧셈의 기본 정의는 두 터플을 연결 한 새로운 터플 리턴!"
   ]
  },
  {
   "cell_type": "code",
   "execution_count": 18,
   "metadata": {
    "collapsed": true
   },
   "outputs": [],
   "source": [
    "# 터플과 상수의 곱은 어떻게 정의 될까?"
   ]
  },
  {
   "cell_type": "code",
   "execution_count": 19,
   "metadata": {
    "collapsed": false
   },
   "outputs": [
    {
     "data": {
      "text/plain": [
       "(1, 2, 1, 2, 1, 2)"
      ]
     },
     "execution_count": 19,
     "metadata": {},
     "output_type": "execute_result"
    }
   ],
   "source": [
    "3 * (1, 2)  # 3 * (1, 2) = (3, 6) ?"
   ]
  },
  {
   "cell_type": "code",
   "execution_count": 20,
   "metadata": {
    "collapsed": true
   },
   "outputs": [],
   "source": [
    "# 마찬 가지로 intuitive 하게 정의되어 있지 않다."
   ]
  },
  {
   "cell_type": "code",
   "execution_count": 11,
   "metadata": {
    "collapsed": true
   },
   "outputs": [],
   "source": [
    "# 자, 본론으로 돌아와 오늘의 주제인 객체지향 프로그래밍 (Object oriented programming, OOP)에 대해서 알아보자.\n",
    "# OOP란 무엇을 뜻하는 걸까?\n",
    "# 지금까지 우리는 변수들을 선언하고 이 변수들을 가지고 이것저것 하는 스타일의 프로그래밍을 했다.\n",
    "# 하지만 세상 만사가 굉장히 복잡하다. 세상 만사가 이렇게 단순하기만 했다면, 프로그래밍도 매우 쉬울 것이다.\n",
    "#\n",
    "# 복잡한 이유는 대게의 경우 우리가 다루는 물체나 개념들은 semantically related 한 것들의 집합체 인 경우가 많다.\n",
    "# 쉬운 예를 들어보자.\n",
    "#\n",
    "# \"사람\" 이라는 단어를 들으면 어떤 이미지가 떠오르는가?\n",
    "#\n",
    "# 팔, 다리, 얼굴, 몸통, 등등\n",
    "#\n",
    "# 그 사람의 가치관, 대인관계, 종교, 등등\n",
    "#\n",
    "# 여러가지것들이 있을 수 있다.\n",
    "# \n",
    "# 컴퓨터 사이언스에서 말하는 객체란 특정한 개념을 표현하는 attributes 를 묶어놓은 단위를 말한다.\n",
    "# 예를들어 \"사람\" 이라는 객체를 그 사람의 \"이름\"과 그 사람의 \"친구 리스트\" 로 정의 할 수 있다.\n",
    "# 다음과 같이 말이다.\n",
    "\n",
    "class Person(object):\n",
    "    def __init__(self, name, people_list):\n",
    "        self.name = name\n",
    "        self.people_list = people_list\n",
    "    \n",
    "    def get_name(self):\n",
    "        return self.name\n",
    "    \n",
    "    def get_people_list(self):\n",
    "        return self.people_list\n",
    "    \n",
    "    def add_friend(self, aFriend):\n",
    "        self.people_list.add(aFriend)\n",
    "        \n",
    "    def undo_friend(self, aFriend):\n",
    "        self.people_list.remove(aFriend)\n",
    "        \n",
    "    def is_friend(self, aFriend):\n",
    "        return aFriend in self.people_list\n",
    "\n",
    "\n",
    "        "
   ]
  },
  {
   "cell_type": "code",
   "execution_count": 12,
   "metadata": {
    "collapsed": false
   },
   "outputs": [
    {
     "name": "stdout",
     "output_type": "stream",
     "text": [
      "True\n",
      "False\n"
     ]
    }
   ],
   "source": [
    "a = Person(\"jaejoon\", set())\n",
    "b = Person(\"nate\", set())\n",
    "c = Person(\"seungjoon\", set())\n",
    "d = Person(\"youngyul\", set())\n",
    "e = Person(\"gunhwan\", set())\n",
    "f = Person(\"frank\", set())\n",
    "\n",
    "a.add_friend(b)\n",
    "a.add_friend(c)\n",
    "b.add_friend(a)\n",
    "b.add_friend(c)\n",
    "c.add_friend(a)\n",
    "c.add_friend(b)\n",
    "\n",
    "print a.is_friend(b) # they are friends!\n",
    "print a.is_friend(d) # they are not friends!\n",
    "\n"
   ]
  },
  {
   "cell_type": "code",
   "execution_count": 13,
   "metadata": {
    "collapsed": true
   },
   "outputs": [],
   "source": [
    "# 이전의 표현과 비교해서 어떤 장점이 있을까? 예를들어...\n",
    "# 1) Person 이라는 개념을 만들고 그 개념이 가지는 요소들을 정의함으로써 하나의 새로운 Person 을 만들 때, 여러 변수를 지정할 필요 없다. \n",
    "# 2) Person 이라는 개념이 가지는 추가적인 요소들을 만들고 싶을 때, 새로운 변수와 개념들을 추가하면 된다.\n",
    "# 3) Person 이라는 \"객체\"를 만듦으로 써, 이 객체를 사용하는 사람은(= 우리) 실제 \"add_friend\" 등이 어떻게 구현되어 있는지 알 필요 없다.\n",
    "# 따라서 쓰기만 하면 된다. = Abstraction\n"
   ]
  },
  {
   "cell_type": "code",
   "execution_count": 14,
   "metadata": {
    "collapsed": true
   },
   "outputs": [],
   "source": [
    "# 당연히 장점만 있는건 아닐텐데, 어떤 단점들이 있을까? 예를들어....\n",
    "# 1) 객체의 정의가 바뀌었을 때 (i.e. 기존의 클래스에 함수 혹은 변수를 추가 할 시), 기존에 이미 정의한 변수들은 어떻게 하나?\n",
    "# 2) 이 객체의 구현이 비효율적인 경우나 추상화가 잘 못된 경우, 이용자는 이를 모르고 원치 않는 코스트를 지불 할 수 있다. (코드 속도의 저하, 불필요한 코드의 작성, etc)"
   ]
  },
  {
   "cell_type": "code",
   "execution_count": 15,
   "metadata": {
    "collapsed": true
   },
   "outputs": [],
   "source": [
    "# OOP 스타일의 프로그래밍을 한다고 해서, 항상 효율적이거나 올바른 코드를 짤 수 있는건 아니다.\n",
    "# OOP 의 진정한 가치는 모든 코드 한줄 한줄을 직관적이며 쉬운 비프로그래밍 언어로 의미를 담아 설명 할 수 있다는 것이다.\n",
    "# 프로그래밍에 익숙해 질 수록 많은 코드를 생각없이 막 짜내려 갈 수 있으나, 제대로 된 OOP 혹은 다른 프로그래밍 Principles 들을 따르지 않는 경우,\n",
    "# 유지보수 및 기능추가를 해야 될 경우, 많은 부분의 코드를 재사용하지 못하고 다시 짜야 되는 비효율성을 경험 할 수 있다.\n",
    "# 알고리즘 챕터에서도 다룬 좋은 코드의 정의에 하나더 추가 하면,\n",
    "# 좋은 코드란 수학적으로 그 정당성과 효율성을 증명 할 수 있는 코드인 것 과 더불어, 재사용하기 쉬운 확장성이 용이한 코드이다.\n",
    "# 이런 좋은 코드를 짜기는 사실 굉장히 어렵다.\n",
    "# 현업에서 average day 에 개발자가 짜는 코드는 몇백줄 내외라고 한다.\n",
    "# 아마 실제로 쓴 코드는 더 많을테지만 올바른 프로그래밍 Principles 들을 따르기 위해 끊임없이 생각하고 수정하는 과정에서\n",
    "# 지우는 코드때문에 몇줄 안남게 된다.\n",
    "# 하지만, 이러한 과정을 거치고 남는 좋은 코드는 두고두고 재사용하기 쉽고 유지 개보수가 편한 롱런에서 그 가치를 발휘한다.\n"
   ]
  },
  {
   "cell_type": "code",
   "execution_count": 16,
   "metadata": {
    "collapsed": true
   },
   "outputs": [],
   "source": [
    "# 자 이제 다시 위에서 언급한 Tuple 로 돌아와 보자.\n",
    "# 파이썬에서 Tuple 은 수학에서의 벡터와 그 모양과 기능들이 비슷한데 위에서 본 것 처럼 몇가지 다른 점들이 있다.\n",
    "# 예를들면 순수한 Tuple 로는 벡터의 덧셈 뺄셈과 Scalar multiplication 을 할 수 없다.\n",
    "# 또한 벡터는 숫자만 있어야 하는데, 터플은 아무런 형태의 데이터를 가질 수 있다.\n",
    "# 터플과 OOP 의 개념을 이용하여 벡터 Class 를 구현해보자.\n"
   ]
  },
  {
   "cell_type": "code",
   "execution_count": 17,
   "metadata": {
    "collapsed": true
   },
   "outputs": [],
   "source": [
    "class MyVector(object):\n",
    "    pass\n",
    "\n",
    "# 이 벡터 클래스는 기존의 벡터의 덧셈 뺄셈 및, Scalar multiplication 을 지원해야 한다.\n",
    "# 또한, 이 n 차원 벡터의 특정 entry 값은 \"get(dimension)\" method 를 통해 접근 한다.\n",
    "# 모든 벡터의 entry 는 숫자를 가져야 한다.\n"
   ]
  },
  {
   "cell_type": "code",
   "execution_count": null,
   "metadata": {
    "collapsed": true
   },
   "outputs": [],
   "source": []
  }
 ],
 "metadata": {
  "kernelspec": {
   "display_name": "Python 2",
   "language": "python",
   "name": "python2"
  },
  "language_info": {
   "codemirror_mode": {
    "name": "ipython",
    "version": 2
   },
   "file_extension": ".py",
   "mimetype": "text/x-python",
   "name": "python",
   "nbconvert_exporter": "python",
   "pygments_lexer": "ipython2",
   "version": "2.7.12"
  }
 },
 "nbformat": 4,
 "nbformat_minor": 1
}

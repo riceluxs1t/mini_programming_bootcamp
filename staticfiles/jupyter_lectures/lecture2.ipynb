{
 "cells": [
  {
   "cell_type": "code",
   "execution_count": 56,
   "metadata": {
    "collapsed": true
   },
   "outputs": [],
   "source": [
    "# Last lecture. we talked about language constructs such as list. for loop. if else if else, etc\n",
    "# Even with those, you can do a great deal of programming.\n",
    "# moving averages, standard deviations, generating all combinations of a list, etc.\n",
    "# Let's think of yet another problem and try implementing it with only what we have leanred so far\n",
    "\n",
    "# Given a list of integers in range 1 ~ 100, let's count the occurences of each number.\n",
    "# e.g. Given, [1,2,3,4,5,5,5,1,1,2,4,4,4,4], the function produces information about the counts of each number.\n",
    "# e.g. 1: 3 (#1 appears 3 times), 2: 2 (#2 appears 2 times), 3: 1 (#3 appears once), 4: 5 (#4 appears 5 times), etc...\n",
    "\n",
    "def computeOccurrences(listOfNumbers):\n",
    "    \n",
    "    counts = [0] * 101 # (creates an array that has 101 zeros in it.)\n",
    "    \n",
    "    for number in listOfNumbers:\n",
    "        counts[number] += 1\n",
    "    \n",
    "    return counts\n",
    "\n"
   ]
  },
  {
   "cell_type": "code",
   "execution_count": 57,
   "metadata": {
    "collapsed": true
   },
   "outputs": [],
   "source": [
    "# What are some pros and cons of this implementation?\n"
   ]
  },
  {
   "cell_type": "code",
   "execution_count": 58,
   "metadata": {
    "collapsed": true
   },
   "outputs": [],
   "source": [
    "# What happens if the distribution of numbers is skewed? i.e. only numbers 1 and 2 appear 99% of times.\n",
    "# and other numbers in range 1~100 appear very little?\n",
    "\n",
    "def computeOccurrences(listOfNumbers):\n",
    "    \n",
    "    countsForOneAndTwo = [0, 0, 0] # why have three entries?\n",
    "    otherNumbers = []\n",
    "    for number in listOfNumbers:\n",
    "        if number == 1 or number == 2:\n",
    "            countsForOneAndTwo[number] += 1\n",
    "        else:\n",
    "            otherNumbers.append(number)\n",
    "    \n",
    "    return countsForOneAndTwo, otherNumbers\n",
    "\n"
   ]
  },
  {
   "cell_type": "code",
   "execution_count": 59,
   "metadata": {
    "collapsed": true
   },
   "outputs": [],
   "source": [
    "# What are some intuitive pros and cons of this implementation?\n"
   ]
  },
  {
   "cell_type": "code",
   "execution_count": 60,
   "metadata": {
    "collapsed": true
   },
   "outputs": [],
   "source": [
    "# Entry python's \"dictionary\" data structure!\n"
   ]
  },
  {
   "cell_type": "code",
   "execution_count": 84,
   "metadata": {
    "collapsed": false
   },
   "outputs": [],
   "source": [
    "myDictionary = {} # one way to initialize a dictionary. MOST COMMON\n",
    "myDictionary2 = dict() # another way to initialize a dictionary\n",
    "\n",
    "# initializes a dictionary with prepopulated data\n",
    "myDictinoary3 = {\"jaejoon\": \"jejoon\", \"youngryul\": \"baekma pok gyuk ki\", \"gunhwan\": \"best driver\"}\n",
    "\n"
   ]
  },
  {
   "cell_type": "code",
   "execution_count": 62,
   "metadata": {
    "collapsed": false
   },
   "outputs": [],
   "source": [
    "# we can populate a dictionary\n",
    "myDictionary[1] = 3\n",
    "myDictionary[2] = 10\n"
   ]
  },
  {
   "cell_type": "code",
   "execution_count": 63,
   "metadata": {
    "collapsed": false
   },
   "outputs": [
    {
     "name": "stdout",
     "output_type": "stream",
     "text": [
      "{1: 3, 2: 10}\n"
     ]
    }
   ],
   "source": [
    "print myDictionary # prints it content"
   ]
  },
  {
   "cell_type": "code",
   "execution_count": 67,
   "metadata": {
    "collapsed": true
   },
   "outputs": [],
   "source": [
    "# dictinoary is what's generally referred to as \"hashmap\"\n",
    "# or \"map\" in other computer programming langugages such as C, Java, etc.\n",
    "# This data structure can be viewed as a collection of \"key-value\" pairs\n",
    "# can naturally be used to store the \"count\" of some objects\n",
    "\n",
    "def computeOccurrences(listOfNumbers):\n",
    "    counts = {}\n",
    "    \n",
    "    for number in listOfNumbers:\n",
    "        if number not in counts:\n",
    "            counts[number] = 0\n",
    "        counts[number] += 1\n",
    "    \n",
    "    return counts\n",
    "    "
   ]
  },
  {
   "cell_type": "code",
   "execution_count": 68,
   "metadata": {
    "collapsed": false
   },
   "outputs": [
    {
     "name": "stdout",
     "output_type": "stream",
     "text": [
      "{1: 3, 2: 2, 3: 1, 4: 5, 5: 3}\n"
     ]
    }
   ],
   "source": [
    "aList = [1,2,3,4,5,5,5,1,1,2,4,4,4,4]\n",
    "counts = computeOccurrences(aList)\n",
    "\n",
    "print counts"
   ]
  },
  {
   "cell_type": "code",
   "execution_count": 70,
   "metadata": {
    "collapsed": false
   },
   "outputs": [],
   "source": [
    "# notice the \"if number not in counts\" line.\n",
    "# what happens if you try accessing a key that's not already defined?\n",
    "# by the way, dictionarys can have arbitrary \"types\" of keys and values.\n",
    "\n",
    "aDict = {}\n",
    "aDict['jeejoon'] = 'cool'\n",
    "aDict['youngryul'] = 'a student'\n",
    "aDict['gunhwan'] = 'church goer'\n"
   ]
  },
  {
   "cell_type": "code",
   "execution_count": 71,
   "metadata": {
    "collapsed": false
   },
   "outputs": [
    {
     "name": "stdout",
     "output_type": "stream",
     "text": [
      "church goer\n"
     ]
    }
   ],
   "source": [
    "print aDict['gunhwan']"
   ]
  },
  {
   "cell_type": "code",
   "execution_count": 72,
   "metadata": {
    "collapsed": false
   },
   "outputs": [
    {
     "ename": "KeyError",
     "evalue": "'seungjun'",
     "output_type": "error",
     "traceback": [
      "\u001b[0;31m---------------------------------------------------------------------------\u001b[0m",
      "\u001b[0;31mKeyError\u001b[0m                                  Traceback (most recent call last)",
      "\u001b[0;32m<ipython-input-72-f3573bf18c9c>\u001b[0m in \u001b[0;36m<module>\u001b[0;34m()\u001b[0m\n\u001b[0;32m----> 1\u001b[0;31m \u001b[0;32mprint\u001b[0m \u001b[0maDict\u001b[0m\u001b[0;34m[\u001b[0m\u001b[0;34m'seungjun'\u001b[0m\u001b[0;34m]\u001b[0m\u001b[0;34m\u001b[0m\u001b[0m\n\u001b[0m",
      "\u001b[0;31mKeyError\u001b[0m: 'seungjun'"
     ]
    }
   ],
   "source": [
    "print aDict['seungjun']"
   ]
  },
  {
   "cell_type": "code",
   "execution_count": 74,
   "metadata": {
    "collapsed": true
   },
   "outputs": [],
   "source": [
    "# it throws a Key error. \n",
    "# that is you can't access a key that's not already defined\n",
    "# \"KeyError\" exception is probly the #2 mistake that novice python programmers make.\n",
    "# back to the case of counting occurrences, this is why we \"checked\" to see if some number is already in our dictionary"
   ]
  },
  {
   "cell_type": "code",
   "execution_count": 75,
   "metadata": {
    "collapsed": false
   },
   "outputs": [
    {
     "data": {
      "text/plain": [
       "True"
      ]
     },
     "execution_count": 75,
     "metadata": {},
     "output_type": "execute_result"
    }
   ],
   "source": [
    "'jeejoon' in aDict"
   ]
  },
  {
   "cell_type": "code",
   "execution_count": 76,
   "metadata": {
    "collapsed": false
   },
   "outputs": [
    {
     "data": {
      "text/plain": [
       "False"
      ]
     },
     "execution_count": 76,
     "metadata": {},
     "output_type": "execute_result"
    }
   ],
   "source": [
    "'namgun' in aDict"
   ]
  },
  {
   "cell_type": "code",
   "execution_count": 77,
   "metadata": {
    "collapsed": false
   },
   "outputs": [
    {
     "name": "stdout",
     "output_type": "stream",
     "text": [
      "jeejoon cool\n",
      "youngryul a student\n",
      "gunhwan church goer\n"
     ]
    }
   ],
   "source": [
    "# sometimes it's necessary to \"iterate\" over the contents of a dictionary\n",
    "# you can use \"for loop\" just like how you would iterate over the contents of a list\n",
    "\n",
    "for key in aDict:\n",
    "    print key, aDict[key]"
   ]
  },
  {
   "cell_type": "code",
   "execution_count": 78,
   "metadata": {
    "collapsed": false
   },
   "outputs": [
    {
     "name": "stdout",
     "output_type": "stream",
     "text": [
      "3\n"
     ]
    }
   ],
   "source": [
    "# to get the number of contents in a dictionary\n",
    "\n",
    "print len(aDict)"
   ]
  },
  {
   "cell_type": "code",
   "execution_count": null,
   "metadata": {
    "collapsed": true
   },
   "outputs": [],
   "source": []
  },
  {
   "cell_type": "code",
   "execution_count": 79,
   "metadata": {
    "collapsed": true
   },
   "outputs": [],
   "source": [
    "# enough with the new language construct!!\n",
    "# let's do programming!!"
   ]
  },
  {
   "cell_type": "code",
   "execution_count": 81,
   "metadata": {
    "collapsed": true
   },
   "outputs": [],
   "source": [
    "# Given a sentence and a mapping that transforms certain words into others, convert the sentence\n",
    "# i.e. Jeejoon is cool!,    cool -> no jam\n",
    "# transform(\"Jeejoon is cool\", mapping) -> Jeejon is no jam\n",
    "# naturally what language struct would you use to represent \"mapping\" paramter?\n",
    "# hint -> \"Jeejoon is cool\".split()  == [\"Jeejoon\", \"is\", \"cool\"]\n"
   ]
  },
  {
   "cell_type": "code",
   "execution_count": 85,
   "metadata": {
    "collapsed": false
   },
   "outputs": [],
   "source": [
    "def transform(sentence, mapping):\n",
    "    pass\n"
   ]
  },
  {
   "cell_type": "code",
   "execution_count": 86,
   "metadata": {
    "collapsed": true
   },
   "outputs": [],
   "source": [
    "# 파이썬의 dictionary 혹은 다른 언어의 map 과 같은 데이터 스트럭쳐는 \n",
    "# 사실 수학과 굉장히 관련이 되어있다.\n",
    "# 전화번호부북을 떠올려 보자. 하필이면 이 전화번호부북은 3쪽 밖에 없다고 가정해보자. \n",
    "# 자 이제, 홍콩반점 전화번호 머야 라고 물으면,\n",
    "# \"홍콩반점 전화번호\" -> \"전화번호부북 3쪽 위에서 5섯번째 줄\" -> 휘릭 휘릭 -> 02 832 0143 \n",
    "# \"02 832 0143\" 입니다. 라고 빠르게 말할 수 있다.\n",
    "# 전화번호부 북을 navigate 하는게 굉장히 쉽다고 가정하면\n",
    "# 위 프로세스에서 중요한건 \"홍콩반점 전화번호\" -> \"전화번호부북 3쪽 위에서 5번째 줄\" 과 같은 transformation 과정이다.\n",
    "# 이 transformation 과정을 \"hashing\" 이라 부른다.\n",
    "# (http://www.laurentluce.com/posts/python-dictionary-implementation/)\n",
    "# 근데 이 hashing 이 mathematically strong 하지 않으면 collsion \"충돌\" 이 일어난다.\n",
    "# e.g.\n",
    "# \"홍콩반점 전화번호\" -> \"전화번호부북 3쪽 위에서 5번째 줄\"\n",
    "# \"지준반점 전화번호\" -> \"전화번호부북 3쪽 위에서 5번재 줄\"\n",
    "# ???\n",
    "# collision 이 전혀 없게 hashing 함수를 작성할 수 없을까?\n",
    "\n"
   ]
  },
  {
   "cell_type": "code",
   "execution_count": 87,
   "metadata": {
    "collapsed": true
   },
   "outputs": [],
   "source": [
    "# 위 질문을 답하기 전에 \"비둘기집의 원리\" 를 떠올려 보자.\n",
    "# 비둘기 집은 100개인데 비둘기가 102마리 있다면\n",
    "# 최선의 경우에도 1개의 비둘기집이 최소 2명 이상의 비둘기를 가질 수 밖에 없다.\n"
   ]
  },
  {
   "cell_type": "code",
   "execution_count": 88,
   "metadata": {
    "collapsed": true
   },
   "outputs": [],
   "source": [
    "# hashing 함수 또한 마찬가지 이다. N개의 bucket 밖에 없는데 (예를들면 list의 size), M > N 개의 서로다른 unique 한 아이템을 변환해버리면\n",
    "# 항상 충돌을 피할 수 없다.\n"
   ]
  },
  {
   "cell_type": "code",
   "execution_count": 89,
   "metadata": {
    "collapsed": true
   },
   "outputs": [],
   "source": [
    "# 맨위에서 다룬 dictionary 를 쓰지 않은 computeOccurrences 함수의 구현이 python dictionary 의 내부 동작 과정을 mimic 해서 짠 함수이다!"
   ]
  },
  {
   "cell_type": "code",
   "execution_count": 90,
   "metadata": {
    "collapsed": true
   },
   "outputs": [],
   "source": [
    "# 따라서 중요한 질문은\n",
    "# \"충돌이 잘 일어나지 않게 (혹은 절대 일어나지 않게), 하려면 어떻게 할까?\" \n",
    "# 이다.\n"
   ]
  },
  {
   "cell_type": "code",
   "execution_count": 91,
   "metadata": {
    "collapsed": true
   },
   "outputs": [],
   "source": [
    "# 1) 당연히 좋은 hashing 함수를 만들어야 한다. i.e. 잘 충돌하지 않는다. (http://mathworld.wolfram.com/HashFunction.html)\n",
    "# 2) 그럼에도 불구하고 비둘기집의 원리에 의하면 충돌은 피할 수 없다.\n",
    "# 3) 충돌이 일어 나기 전 미리 detect 하고, 충돌을 피하는 방법들을 마련해야 한다. (http://stackoverflow.com/questions/4980757/how-do-hashtables-deal-with-collisions)\n"
   ]
  },
  {
   "cell_type": "code",
   "execution_count": null,
   "metadata": {
    "collapsed": true
   },
   "outputs": [],
   "source": [
    "# 이제 숙제에서 다룬 문제하나를 다시 생각해보자.\n",
    "# problem:\n",
    "# \n",
    "\"\"\"\n",
    "MEDIUM HARD\n",
    " \n",
    "Given a list of integer numbers of an arbitrary length and a number x, find a pair of numbers in the list that sum to x\n",
    "if there is no such a pair, simply output an empty list []\n",
    " \n",
    "e.g.\n",
    "[1,2,3,4,5], 3.\n",
    " \n",
    "output [1, 2]\n",
    " \n",
    "e.g.\n",
    "[1,2,3,4,5], 100\n",
    "output []\n",
    " \n",
    "HINT: use double for loops\n",
    "Extra Credit: read http://w...content-available-to-author-only...s.org/count-pairs-with-given-sum/ and think a better way to do this than using double for loops.\n",
    "실제 테크 회사들 맨 첫라운드 인터뷰 문제로 자주 등장.\n",
    "\"\"\"\n",
    " \n",
    "def findPair(numbers, x):\n",
    "    pass"
   ]
  },
  {
   "cell_type": "code",
   "execution_count": null,
   "metadata": {
    "collapsed": true
   },
   "outputs": [],
   "source": [
    "# youngruyl's solution\n",
    "\n",
    "def findPair(list,target):\n",
    "\tval=[]\n",
    "\tfor i in range(len(list)):\n",
    "\t\tfor j in range(i+1,len(list),1):\n",
    "\t\t\tif list[i]+list[j]==target:\n",
    "\t\t\t\tval.append([list[i],list[j]])\n",
    "\treturn val\n"
   ]
  },
  {
   "cell_type": "code",
   "execution_count": null,
   "metadata": {
    "collapsed": false
   },
   "outputs": [],
   "source": [
    "findPair([2,3,4,5], 7)"
   ]
  },
  {
   "cell_type": "code",
   "execution_count": null,
   "metadata": {
    "collapsed": true
   },
   "outputs": [],
   "source": [
    "# 맞는것 같다.\n",
    "# 하지만 굉장히 큰 리스트를 주면 어떻게 될까?\n",
    "import random\n",
    "\n",
    "def generateRandomList():\n",
    "    aList = []\n",
    "    for _ in xrange(100000):\n",
    "        aList.append(random.randrange(1, 10000))\n",
    "    return aList"
   ]
  },
  {
   "cell_type": "code",
   "execution_count": null,
   "metadata": {
    "collapsed": true
   },
   "outputs": [],
   "source": [
    "aLongRandomList = generateRandomList()"
   ]
  },
  {
   "cell_type": "code",
   "execution_count": null,
   "metadata": {
    "collapsed": false
   },
   "outputs": [],
   "source": [
    "import time\n",
    "\n",
    "startTime = time.time()\n",
    "findPair(aLongRandomList, random.randrange(1, 1000))\n",
    "endTime = time.time()"
   ]
  },
  {
   "cell_type": "code",
   "execution_count": null,
   "metadata": {
    "collapsed": true
   },
   "outputs": [],
   "source": [
    "# 돌려보면 대략 4초나 걸린다..\n",
    "# 만약에 10000 개가 아니라 10만개의 리스트를 주면 어덜까?\n",
    "# 대략 몇십분쯤 걸린다.\n",
    "print \"function took {0} seconds\".format(endTime - startTime)\n"
   ]
  },
  {
   "cell_type": "code",
   "execution_count": null,
   "metadata": {
    "collapsed": true
   },
   "outputs": [],
   "source": [
    "# 오늘 배운 개념을 써서 0.01초만에 돌게 하는 법은 없을까?\n"
   ]
  },
  {
   "cell_type": "code",
   "execution_count": null,
   "metadata": {
    "collapsed": true
   },
   "outputs": [],
   "source": [
    "def fasterVersion():\n",
    "    pass\n"
   ]
  },
  {
   "cell_type": "code",
   "execution_count": null,
   "metadata": {
    "collapsed": true
   },
   "outputs": [],
   "source": []
  },
  {
   "cell_type": "code",
   "execution_count": null,
   "metadata": {
    "collapsed": true
   },
   "outputs": [],
   "source": []
  }
 ],
 "metadata": {
  "kernelspec": {
   "display_name": "Python 2",
   "language": "python",
   "name": "python2"
  },
  "language_info": {
   "codemirror_mode": {
    "name": "ipython",
    "version": 2
   },
   "file_extension": ".py",
   "mimetype": "text/x-python",
   "name": "python",
   "nbconvert_exporter": "python",
   "pygments_lexer": "ipython2",
   "version": "2.7.12"
  }
 },
 "nbformat": 4,
 "nbformat_minor": 1
}

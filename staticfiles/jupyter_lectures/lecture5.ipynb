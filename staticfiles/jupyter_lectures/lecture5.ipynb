{
 "cells": [
  {
   "cell_type": "code",
   "execution_count": 3,
   "metadata": {
    "collapsed": true
   },
   "outputs": [],
   "source": [
    "# 이때까지 우리가 한 것들\n"
   ]
  },
  {
   "cell_type": "markdown",
   "metadata": {},
   "source": []
  },
  {
   "cell_type": "code",
   "execution_count": 18,
   "metadata": {
    "collapsed": false
   },
   "outputs": [
    {
     "name": "stdout",
     "output_type": "stream",
     "text": [
      "hiyo\n"
     ]
    }
   ],
   "source": [
    "# 1) len, for, import 등등의 파이썬 내장 함수 들을 사용함.\n",
    "len([1,2,3,4,5,]) == 5\n",
    "\n",
    "print(\"hiyo\") # i.e. print \"hiyo\" 랑 같은 결과를 리턴"
   ]
  },
  {
   "cell_type": "code",
   "execution_count": 14,
   "metadata": {
    "collapsed": false
   },
   "outputs": [],
   "source": [
    "# 2) 다른 라이브러리 (혹은 모듈이라 불림) 가 제공하는 함수들 또한 써봄. i.e. import math. math.fabs(2)\n",
    "\n",
    "import math\n",
    "math.fabs(-3) == 3\n",
    "\n",
    "import requests\n",
    "# requests.get(\"https://www.google.com\") # 구글에 페이지를 파이썬을 이용해서 불러옴. i.e. 우리가 이용하는 브라우저들이 뒤에서 하는 일\n",
    "\n",
    "# 등등 등등"
   ]
  },
  {
   "cell_type": "code",
   "execution_count": 19,
   "metadata": {
    "collapsed": false
   },
   "outputs": [
    {
     "name": "stdout",
     "output_type": "stream",
     "text": [
      "hiyohiyohiyohiyohiyohiyohiyohiyohiyohiyo\n"
     ]
    }
   ],
   "source": [
    "# 3) 우리가 스스로 정의한 함수들 (i.e. 숙제) 또한 정의해서 호출 해서 사용.\n",
    "\n",
    "def repeatMeTenTimes(me):\n",
    "    return me*10\n",
    "\n",
    "print repeatMeTenTimes(\"hiyo\")"
   ]
  },
  {
   "cell_type": "code",
   "execution_count": 7,
   "metadata": {
    "collapsed": true
   },
   "outputs": [],
   "source": [
    "# 4) OOP 개념을 활용하여 Class 를 만들고 해당 클래스의 객체들을 만들고 이 객체들이 제공하는 함수 및 attribute 들 또한 써봄."
   ]
  },
  {
   "cell_type": "code",
   "execution_count": 24,
   "metadata": {
    "collapsed": false
   },
   "outputs": [
    {
     "name": "stdout",
     "output_type": "stream",
     "text": [
      "A\n"
     ]
    }
   ],
   "source": [
    "class Grade(object): # 우리가 정의한 \"Class\"\n",
    "    \n",
    "    def __init__(self, homework_name, homework_grade):\n",
    "        self.homework_name = homework_name # 이 클래스의 객체가 가지는 attribute\n",
    "        self.homework_grade = homework_grade # 이 클래스의 객체가 가지는 attribute2\n",
    "    \n",
    "    # 이 클래스의 객체가 가지는 함수. 레터그레이드 성적을 계산.\n",
    "    def computeGrade(self):\n",
    "        if self.homework_grade >= 90:\n",
    "            return 'A'\n",
    "        else:\n",
    "            return 'F'\n",
    "\n",
    "\n",
    "homework_grade = Grade(\"homework_one\", 91) # 객체 생성.\n",
    "print homework_grade.computeGrade() # 객체의 함수 호출.\n",
    "\n"
   ]
  },
  {
   "cell_type": "code",
   "execution_count": 23,
   "metadata": {
    "collapsed": false
   },
   "outputs": [
    {
     "name": "stdout",
     "output_type": "stream",
     "text": [
      "F\n"
     ]
    }
   ],
   "source": [
    "homework_grade2 = Grade(\"homework_one\", 89)\n",
    "print homework_grade2.computeGrade()"
   ]
  },
  {
   "cell_type": "code",
   "execution_count": 27,
   "metadata": {
    "collapsed": true
   },
   "outputs": [],
   "source": [
    "# 위 예제를 통해 유추해 보면 사실 모든 함수는\n",
    "# someObject.someFunctionName(someArgument1, someArgument2, ...) 의 형태를 가지는 걸 알 수 있음!\n",
    "# 단 파이썬이 기본적으로 제공하는 함수들은 someObject 부분이 생략 된 형태로 이해하면 됨!\n",
    "\n",
    "# 자 이제 제일 중요한 Tip!\n",
    "#　The number one rule of engineering is \"avoid reinventing the wheels whenver possible!\". Chances are other people \n",
    "# already did a better job. Use it to your advantage!\n",
    "\n",
    "# 이제, 재미난 프로그래밍을 한번 해보자!\n",
    "# 오늘의 서버리 메뉴에서 특정한 음식 (e.g. Chicken Fried Steak) 이 있는지 없는지 검사해보는 함수를 짜보자!\n",
    "# 이걸 사람이 검사 한다면 어떤 과정을 통해 검사하게 될까?\n"
   ]
  },
  {
   "cell_type": "code",
   "execution_count": 28,
   "metadata": {
    "collapsed": true
   },
   "outputs": [],
   "source": [
    "# 1) https://dining.rice.edu 에 브라우저를 통해 접속해서 페이지를 로드함!"
   ]
  },
  {
   "cell_type": "code",
   "execution_count": 29,
   "metadata": {
    "collapsed": true
   },
   "outputs": [],
   "source": [
    "# 2) 페이지 중에서 치킨 프라이드 스테이크가 있는지 없는지 눈으로 살펴봄!"
   ]
  },
  {
   "cell_type": "code",
   "execution_count": 30,
   "metadata": {
    "collapsed": true
   },
   "outputs": [],
   "source": [
    "# 이 둘다 프로그래밍을 통해 쉽게 할 수 있다!!"
   ]
  },
  {
   "cell_type": "code",
   "execution_count": 33,
   "metadata": {
    "collapsed": false
   },
   "outputs": [],
   "source": [
    "dining_address = \"https://dining.rice.edu\"\n",
    "\n",
    "# 1)번 스텝에 해당\n",
    "# page = requests.get(dining_address)\n",
    "\n",
    "# 2)번 스텝에 해당\n",
    "\n",
    "# if \"Chicken Friend Steak\" in page:\n",
    "#     print \"yes there is a chicken fried steak served somewhere on campus!\"\n",
    "# else:\n",
    "#     print \"Most likely, no chicken fried steak served tonight!\"\n",
    "    \n",
    "\n"
   ]
  },
  {
   "cell_type": "code",
   "execution_count": 34,
   "metadata": {
    "collapsed": true
   },
   "outputs": [],
   "source": [
    "# 자 이제 이걸 무수히 반복해서 여러 메뉴에 대해 검색하고 싶다면 어떨까?\n",
    "# 검색 할 때 마다, 파이썬 코드를 6줄이나 짜는건 매우 번거로운 일이다!\n",
    "# 함수로 만들자!"
   ]
  },
  {
   "cell_type": "code",
   "execution_count": 35,
   "metadata": {
    "collapsed": true
   },
   "outputs": [],
   "source": [
    "\n",
    "def lookUpFood(food_name):\n",
    "    # your implementation goes here!\n",
    "    pass"
   ]
  },
  {
   "cell_type": "code",
   "execution_count": 38,
   "metadata": {
    "collapsed": false
   },
   "outputs": [
    {
     "name": "stdout",
     "output_type": "stream",
     "text": [
      "HEY\n"
     ]
    }
   ],
   "source": [
    "# 위 코드의 문제는 어떤게 있을까?\n",
    "# 1) Chicken Fried Steak 의 스펠링이 우리가 입력으로 준 스펠링과 다르다면, 찾지 못함! => 인간과 다르게 기계에게 text matching 시키는 문제는\n",
    "# 쉬운 일은 아님. 영어 기준 한가지 쉬운 트릭은, 소문자로 바꾼 뒤 compare! 소문자로 어떻게 바꿀까? 모든 스트링 \"객체\"에 대해 이미 정의 된 함수가 있다.\n",
    "# page.lower()\n",
    "#\n",
    "# 2) 음식을 찾았을 때, 어디 서버리인지 알고 싶을 땐 어떨까? => 간단한 string lookup이 아닌 더 복잡한 처리가 필요하다. 웹사이트의 특정 페이지를\n",
    "# 그 페이지가 가지는 계층구조를 고려하여 처리하는 과정을 \"파싱\" 한다고 말한다. \"퍼가요\" 의 프로그래밍 버전. \n",
    "\n",
    "uppercase_string = \"HEY\"\n",
    "print uppercase_string"
   ]
  },
  {
   "cell_type": "code",
   "execution_count": 39,
   "metadata": {
    "collapsed": false
   },
   "outputs": [
    {
     "name": "stdout",
     "output_type": "stream",
     "text": [
      "hey\n"
     ]
    }
   ],
   "source": [
    "print uppercase_string.lower()"
   ]
  },
  {
   "cell_type": "code",
   "execution_count": null,
   "metadata": {
    "collapsed": true
   },
   "outputs": [],
   "source": []
  }
 ],
 "metadata": {
  "kernelspec": {
   "display_name": "Python 2",
   "language": "python",
   "name": "python2"
  },
  "language_info": {
   "codemirror_mode": {
    "name": "ipython",
    "version": 2
   },
   "file_extension": ".py",
   "mimetype": "text/x-python",
   "name": "python",
   "nbconvert_exporter": "python",
   "pygments_lexer": "ipython2",
   "version": "2.7.12"
  }
 },
 "nbformat": 4,
 "nbformat_minor": 1
}

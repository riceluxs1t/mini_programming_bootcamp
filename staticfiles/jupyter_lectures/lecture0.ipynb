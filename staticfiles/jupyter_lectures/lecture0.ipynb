{
 "cells": [
  {
   "cell_type": "code",
   "execution_count": 1,
   "metadata": {
    "collapsed": false
   },
   "outputs": [
    {
     "name": "stdout",
     "output_type": "stream",
     "text": [
      "Hello World!\n"
     ]
    }
   ],
   "source": [
    "print \"Hello World!\""
   ]
  },
  {
   "cell_type": "markdown",
   "metadata": {},
   "source": []
  },
  {
   "cell_type": "code",
   "execution_count": 2,
   "metadata": {
    "collapsed": true
   },
   "outputs": [],
   "source": [
    "# 2016년은 개인적으로도 사회적으로도 다사다난 했던 한해였습니다.\n",
    "# 한해의 수많은 Buzzword 중 \"빅데이터\", \"인공지능\", \"프로그래머\" 등은 한번쯤은 들어보셨을 겁니다.\n",
    "# 빅데이터, 인공지능, 프로그래머과 같은 단어를 들으면 어떤 생각이 드시나요?\n",
    "# 치킨집 사장님?\n",
    "# 아니면, 자주 사용하는 굉장히 편리하고 스마트한 모바일 서비스?\n",
    "#\n",
    "# 어떤 개념을 상상하든, 어딘가 모호하고 약간은 나와는 연관이 없을 것 같고 어쩌면 너무 어려울지도 모르는 Fuzzy 한 그림이 그려지시나요?\n",
    "# Fear no more!\n",
    "# 라이스에 재학중인 남자 재학생 3명 (nk15, sn28, jr51) 이 모여 게임할 시간을 / 연애할 시간을 / 술마실 시간을 쪼개서 \n",
    "# 그레이드 걱정없이(!) / 친절한 한국말로 / 그렇지만 알찬 내용의 파이썬 수업을 한번 기획해보았습니다.\n",
    "#\n",
    "# 도대체 왜? "
   ]
  },
  {
   "cell_type": "code",
   "execution_count": 9,
   "metadata": {
    "collapsed": true
   },
   "outputs": [],
   "source": [
    "from __future__ import division\n",
    "import math\n",
    "\n",
    "\n",
    "def computeExponentialGrowth(before, after, num_year):\n",
    "    \"\"\"\n",
    "    figures out what yearlyGrowthRate is given the following eq.\n",
    "    before*(yearlyGrowthRate)^(num_year) = after\n",
    "    \n",
    "    Args:\n",
    "        before: the number before the expoential growth\n",
    "        after: the number after the exponentail growth\n",
    "        \n",
    "    Returns:\n",
    "        the yearly growth rate \n",
    "    \"\"\"\n",
    "    \n",
    "    return 10**((math.log10(after/before))/num_year)"
   ]
  },
  {
   "cell_type": "code",
   "execution_count": 13,
   "metadata": {
    "collapsed": false
   },
   "outputs": [
    {
     "name": "stdout",
     "output_type": "stream",
     "text": [
      "1.37972966146\n"
     ]
    }
   ],
   "source": [
    "print computeExponentialGrowth(80, 400, 5)"
   ]
  },
  {
   "cell_type": "code",
   "execution_count": 16,
   "metadata": {
    "collapsed": true
   },
   "outputs": [],
   "source": [
    "# 아시나요?\n",
    "# 올해 라이스 신입생 중 대략 1/3 가량은 라이스 컴싸 전공을 위한 101 수업인 COMP 140 혹은 COMP 160을 들었습니다.\n",
    "# 제가 신입생으로 입학 했을 때(..) 대략 80명 정도 들은 것 같은데 연간 yearly growth 를 계산해보면 대략 40% 정도 되네요.\n",
    "# 교수님 수는 거의 그대로인데 학생수는 몇배가 증가했다니.. 그만큼 조교를 많이 뽑을 예정인가 봅니다.\n",
    "#\n",
    "# 컴싸의 높아진 인기에는 여러가지 이유가 있겠지만 (i.e. 어마어마한 연봉, 개발자라는 멋진 타이틀(?)), \n",
    "# 우리 삶에 넓게는 컴퓨터공학이 좁게는 프로그래밍을 통한 자동화/생산성 개선이 이루어지고 있지 않은 곳이 없습니다. \n",
    "# 5년 뒤 쯤 좋은 대학에 가기 위해선, 고등학교 때 필수로 프로그래밍을 해야 될 지도 모른다고 조심스럽게 예언해봅니다..\n",
    "# 컴싸가 대체 뭐길래 이 난리를 치는걸까요?\n",
    "# \n",
    "# 이 수업을 듣고 난 후, 조금은 \"아 컴싸가 이런거구나\" 라는 본인만의 정의를 세울 수 있다면, 또 그래서 컴싸를 전공하게 된다면(?!), 저희 모두 매우\n",
    "# 뿌듯 할 것 같습니다."
   ]
  },
  {
   "cell_type": "code",
   "execution_count": null,
   "metadata": {
    "collapsed": true
   },
   "outputs": [],
   "source": []
  },
  {
   "cell_type": "code",
   "execution_count": 18,
   "metadata": {
    "collapsed": true
   },
   "outputs": [],
   "source": [
    "# What This Course Aims To\n",
    "# 바야흐로, 코딩 교육의 시대입니다. 더 뛰어나고 훌륭하신 사람들이 만든 수많은 유/무료 온라인 강의가 범람하는 시대에 \n",
    "# 그것들을 대체하고자 하는 의도는 전혀 없습니다. 저희도 학점 챙겨야죠.\n",
    "# 다만, 프로그래밍의 분야에서 만큼은 1+1 이 2보다 클 수 있다고 믿습니다. 더 많은 이들이 관심을 가지고 더 재미난 것들을 같이 할 수 있게 된다면\n",
    "# 학교 생활이 매우 즐겁지 않을 까요\n",
    "# 프로그래밍은 생각 표현의 도구라 생각합니다. 마치 망치와 드라이버 처럼요. 어떤 생각을 담을지는 순전히 다양한 분야에서 공부하는 여러분들의 몫이라 생각합니다.\n",
    "# 모든 분야에 domain knowledge 가 필요 하듯이, 컴퓨터 공학은 이 생각의 표현을 체계적으로 정리해놓은 학문이라 생각합니다."
   ]
  },
  {
   "cell_type": "code",
   "execution_count": null,
   "metadata": {
    "collapsed": true
   },
   "outputs": [],
   "source": []
  },
  {
   "cell_type": "code",
   "execution_count": 19,
   "metadata": {
    "collapsed": true
   },
   "outputs": [],
   "source": [
    "# 이 수업을 듣고 난 뒤, 아래 3가지에 대해 답을 내리고 공감할 수 있다면 we know we have done our job well.\n",
    "# 1) What is programming and computer science and why should I bother learning it?\n",
    "# 2) Making fuzzy ideas concrete\n",
    "# 3) Being able to use abstraction and see things through"
   ]
  },
  {
   "cell_type": "code",
   "execution_count": null,
   "metadata": {
    "collapsed": true
   },
   "outputs": [],
   "source": []
  },
  {
   "cell_type": "code",
   "execution_count": 21,
   "metadata": {
    "collapsed": true
   },
   "outputs": [],
   "source": [
    "# 6/2(1+2) 와 같은 모호한 수식 계산을 컴퓨터에게 시키려면 어떻게 해야 될까요?\n",
    "# 기계는 절대 시키지 않는 일을 하지 않습니다. 아이디어를 코드로 옮길 때는 애매모호이 있으면 안됩니다.\n",
    "# 이 수업에서 fuzzy 한 아이디어들을 구체적으로 기계가 이해할 수 있는 코드로 옮기려면 어떻게 해야 할지 배워봅니다.\n",
    "# 구체적으로, \"파이썬\" 이라는 프로그래밍 언어를 배우고 \"파이썬\" 코드로 옮기는 법을 배워 다룹니다."
   ]
  },
  {
   "cell_type": "code",
   "execution_count": null,
   "metadata": {
    "collapsed": true
   },
   "outputs": [],
   "source": []
  },
  {
   "cell_type": "code",
   "execution_count": 22,
   "metadata": {
    "collapsed": true
   },
   "outputs": [],
   "source": [
    "# 손으로 쓰인 일련의 숫자들을 인식하는 바코드 프로그램\n",
    "# 이 수업을 들을지 말 지 결정하는 사고의 과정\n",
    "# STAT 310 에서 배우는 Regression \n",
    "# 어떤 (potential) 공통점들이 있을까요?\n",
    "# \"추상화\" 란, 실세계의 복잡한 예제, 상황들을 간결하고 명확하게 단순화/일반화/개념화 하는 과정을 말합니다.\n",
    "# 위에 설명한 \"구체화\" 라는 말과는 반대의 말이지요. 역설적이게도 프로그래밍을 잘 하기 위해서는 이 두가지 모두를 잘해야 합니다.\n",
    "# 이 덕목 또한, 수업에서 다뤄봅니다.\n"
   ]
  },
  {
   "cell_type": "code",
   "execution_count": null,
   "metadata": {
    "collapsed": true
   },
   "outputs": [],
   "source": []
  },
  {
   "cell_type": "code",
   "execution_count": 23,
   "metadata": {
    "collapsed": true
   },
   "outputs": [],
   "source": [
    "# 굉장히 많은 것들을 구구절절 얘기하였기에,\n",
    "# 3줄 요약과 함께 인트로 소개를 마칠까 합니다.\n",
    "# 1) 프로그래밍 어렵지 않다.\n",
    "# 2) 재미있게 배울 수 있다.\n",
    "# 3) 다같이."
   ]
  },
  {
   "cell_type": "code",
   "execution_count": null,
   "metadata": {
    "collapsed": true
   },
   "outputs": [],
   "source": []
  },
  {
   "cell_type": "code",
   "execution_count": 25,
   "metadata": {
    "collapsed": true
   },
   "outputs": [],
   "source": [
    "# Some Course Logistics\n",
    "# When - Saturday Night (subject to change)\n",
    "# Where - TBD\n",
    "# Homework? - Of course. There are 4 homeworks and 1 final assisgnment"
   ]
  },
  {
   "cell_type": "code",
   "execution_count": null,
   "metadata": {
    "collapsed": true
   },
   "outputs": [],
   "source": []
  }
 ],
 "metadata": {
  "kernelspec": {
   "display_name": "Python 2",
   "language": "python",
   "name": "python2"
  },
  "language_info": {
   "codemirror_mode": {
    "name": "ipython",
    "version": 2
   },
   "file_extension": ".py",
   "mimetype": "text/x-python",
   "name": "python",
   "nbconvert_exporter": "python",
   "pygments_lexer": "ipython2",
   "version": "2.7.12"
  }
 },
 "nbformat": 4,
 "nbformat_minor": 1
}
